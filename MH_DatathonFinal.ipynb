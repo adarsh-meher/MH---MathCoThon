{
  "nbformat": 4,
  "nbformat_minor": 0,
  "metadata": {
    "colab": {
      "name": "MH-Datathon.ipynb",
      "provenance": [],
      "collapsed_sections": [],
      "authorship_tag": "ABX9TyMdpxJmiHwrlgWA7DN0C3VC",
      "include_colab_link": true
    },
    "kernelspec": {
      "name": "python3",
      "display_name": "Python 3"
    },
    "language_info": {
      "name": "python"
    }
  },
  "cells": [
    {
      "cell_type": "markdown",
      "metadata": {
        "id": "view-in-github",
        "colab_type": "text"
      },
      "source": [
        "<a href=\"https://colab.research.google.com/github/adarsh-meher/MH---MathCoThon/blob/master/MH_DatathonFinal.ipynb\" target=\"_parent\"><img src=\"https://colab.research.google.com/assets/colab-badge.svg\" alt=\"Open In Colab\"/></a>"
      ]
    },
    {
      "cell_type": "code",
      "metadata": {
        "id": "-N0456Jyxddz",
        "outputId": "e8ead22c-48dd-4db0-d5e7-4ef7b37f8284",
        "colab": {
          "resources": {
            "http://localhost:8080/nbextensions/google.colab/files.js": {
              "data": "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",
              "ok": true,
              "headers": [
                [
                  "content-type",
                  "application/javascript"
                ]
              ],
              "status": 200,
              "status_text": "OK"
            }
          },
          "base_uri": "https://localhost:8080/",
          "height": 110
        }
      },
      "source": [
        "from google.colab import files\n",
        "data = files.upload()"
      ],
      "execution_count": 1,
      "outputs": [
        {
          "output_type": "display_data",
          "data": {
            "text/html": [
              "\n",
              "     <input type=\"file\" id=\"files-9b0917bd-6250-405f-af43-e4d8c1e893e7\" name=\"files[]\" multiple disabled\n",
              "        style=\"border:none\" />\n",
              "     <output id=\"result-9b0917bd-6250-405f-af43-e4d8c1e893e7\">\n",
              "      Upload widget is only available when the cell has been executed in the\n",
              "      current browser session. Please rerun this cell to enable.\n",
              "      </output>\n",
              "      <script src=\"/nbextensions/google.colab/files.js\"></script> "
            ],
            "text/plain": [
              "<IPython.core.display.HTML object>"
            ]
          },
          "metadata": {
            "tags": []
          }
        },
        {
          "output_type": "stream",
          "text": [
            "Saving test.csv to test.csv\n",
            "Saving train.csv to train.csv\n"
          ],
          "name": "stdout"
        }
      ]
    },
    {
      "cell_type": "code",
      "metadata": {
        "colab": {
          "base_uri": "https://localhost:8080/"
        },
        "id": "WCBJmFTvx_8e",
        "outputId": "8c9ac34e-a3c0-4d00-f205-aff6931b56dc"
      },
      "source": [
        "!conda install -c conda-forge scikit-garden \n",
        "!pip install lightgbm\n",
        "!pip install hyperopt\n",
        "!pip install catboost\n",
        "!pip uninstall xgboost\n",
        "!pip install https://s3-us-west-2.amazonaws.com/xgboost-nightly-builds/xgboost-1.4.0_SNAPSHOT%2B4224c08cacceba3f83f90e387c07aa6205a83bfa-py3-none-manylinux2010_x86_64.whl\n",
        "!pip install mlxtend\n",
        "!pip install category_encoders"
      ],
      "execution_count": null,
      "outputs": [
        {
          "output_type": "stream",
          "text": [
            "/bin/bash: conda: command not found\n",
            "Requirement already satisfied: lightgbm in /usr/local/lib/python3.7/dist-packages (2.2.3)\n",
            "Requirement already satisfied: scikit-learn in /usr/local/lib/python3.7/dist-packages (from lightgbm) (0.22.2.post1)\n",
            "Requirement already satisfied: numpy in /usr/local/lib/python3.7/dist-packages (from lightgbm) (1.19.5)\n",
            "Requirement already satisfied: scipy in /usr/local/lib/python3.7/dist-packages (from lightgbm) (1.4.1)\n",
            "Requirement already satisfied: joblib>=0.11 in /usr/local/lib/python3.7/dist-packages (from scikit-learn->lightgbm) (1.0.1)\n",
            "Requirement already satisfied: hyperopt in /usr/local/lib/python3.7/dist-packages (0.1.2)\n",
            "Requirement already satisfied: tqdm in /usr/local/lib/python3.7/dist-packages (from hyperopt) (4.41.1)\n",
            "Requirement already satisfied: six in /usr/local/lib/python3.7/dist-packages (from hyperopt) (1.15.0)\n",
            "Requirement already satisfied: pymongo in /usr/local/lib/python3.7/dist-packages (from hyperopt) (3.11.4)\n",
            "Requirement already satisfied: numpy in /usr/local/lib/python3.7/dist-packages (from hyperopt) (1.19.5)\n",
            "Requirement already satisfied: scipy in /usr/local/lib/python3.7/dist-packages (from hyperopt) (1.4.1)\n",
            "Requirement already satisfied: future in /usr/local/lib/python3.7/dist-packages (from hyperopt) (0.16.0)\n",
            "Requirement already satisfied: networkx in /usr/local/lib/python3.7/dist-packages (from hyperopt) (2.5.1)\n",
            "Requirement already satisfied: decorator<5,>=4.3 in /usr/local/lib/python3.7/dist-packages (from networkx->hyperopt) (4.4.2)\n",
            "Collecting catboost\n",
            "\u001b[?25l  Downloading https://files.pythonhosted.org/packages/5a/41/24e14322b9986cf72a8763e0a0a69cc256cf963cf9502c8f0044a62c1ae8/catboost-0.26-cp37-none-manylinux1_x86_64.whl (69.2MB)\n",
            "\u001b[K     |████████████████████████████████| 69.2MB 41kB/s \n",
            "\u001b[?25hRequirement already satisfied: plotly in /usr/local/lib/python3.7/dist-packages (from catboost) (4.4.1)\n",
            "Requirement already satisfied: graphviz in /usr/local/lib/python3.7/dist-packages (from catboost) (0.10.1)\n",
            "Requirement already satisfied: pandas>=0.24.0 in /usr/local/lib/python3.7/dist-packages (from catboost) (1.1.5)\n",
            "Requirement already satisfied: numpy>=1.16.0 in /usr/local/lib/python3.7/dist-packages (from catboost) (1.19.5)\n",
            "Requirement already satisfied: six in /usr/local/lib/python3.7/dist-packages (from catboost) (1.15.0)\n",
            "Requirement already satisfied: matplotlib in /usr/local/lib/python3.7/dist-packages (from catboost) (3.2.2)\n",
            "Requirement already satisfied: scipy in /usr/local/lib/python3.7/dist-packages (from catboost) (1.4.1)\n",
            "Requirement already satisfied: retrying>=1.3.3 in /usr/local/lib/python3.7/dist-packages (from plotly->catboost) (1.3.3)\n",
            "Requirement already satisfied: pytz>=2017.2 in /usr/local/lib/python3.7/dist-packages (from pandas>=0.24.0->catboost) (2018.9)\n",
            "Requirement already satisfied: python-dateutil>=2.7.3 in /usr/local/lib/python3.7/dist-packages (from pandas>=0.24.0->catboost) (2.8.1)\n",
            "Requirement already satisfied: cycler>=0.10 in /usr/local/lib/python3.7/dist-packages (from matplotlib->catboost) (0.10.0)\n",
            "Requirement already satisfied: pyparsing!=2.0.4,!=2.1.2,!=2.1.6,>=2.0.1 in /usr/local/lib/python3.7/dist-packages (from matplotlib->catboost) (2.4.7)\n",
            "Requirement already satisfied: kiwisolver>=1.0.1 in /usr/local/lib/python3.7/dist-packages (from matplotlib->catboost) (1.3.1)\n",
            "Installing collected packages: catboost\n",
            "Successfully installed catboost-0.26\n",
            "Collecting rgf_python\n",
            "\u001b[?25l  Downloading https://files.pythonhosted.org/packages/05/be/1d5eda35782f9721bc0ac17a5a119b168260f4aa5ec2471cdef14f31598b/rgf_python-3.10.0-py3-none-manylinux1_x86_64.whl (757kB)\n",
            "\u001b[K     |████████████████████████████████| 757kB 6.4MB/s \n",
            "\u001b[?25hRequirement already satisfied: scikit-learn>=0.18 in /usr/local/lib/python3.7/dist-packages (from rgf_python) (0.22.2.post1)\n",
            "Requirement already satisfied: joblib in /usr/local/lib/python3.7/dist-packages (from rgf_python) (1.0.1)\n",
            "Requirement already satisfied: scipy>=0.17.0 in /usr/local/lib/python3.7/dist-packages (from scikit-learn>=0.18->rgf_python) (1.4.1)\n",
            "Requirement already satisfied: numpy>=1.11.0 in /usr/local/lib/python3.7/dist-packages (from scikit-learn>=0.18->rgf_python) (1.19.5)\n",
            "Installing collected packages: rgf-python\n",
            "Successfully installed rgf-python-3.10.0\n",
            "Uninstalling xgboost-0.90:\n",
            "  Would remove:\n",
            "    /usr/local/lib/python3.7/dist-packages/xgboost-0.90.dist-info/*\n",
            "    /usr/local/lib/python3.7/dist-packages/xgboost/*\n",
            "    /usr/local/xgboost/libxgboost.so\n",
            "Proceed (y/n)? y\n",
            "  Successfully uninstalled xgboost-0.90\n",
            "Collecting xgboost==1.4.0-SNAPSHOT+4224c08cacceba3f83f90e387c07aa6205a83bfa\n",
            "\u001b[?25l  Downloading https://s3-us-west-2.amazonaws.com/xgboost-nightly-builds/xgboost-1.4.0_SNAPSHOT%2B4224c08cacceba3f83f90e387c07aa6205a83bfa-py3-none-manylinux2010_x86_64.whl (166.7MB)\n",
            "\u001b[K     |████████████████████████████████| 166.7MB 55kB/s \n",
            "\u001b[?25hRequirement already satisfied: scipy in /usr/local/lib/python3.7/dist-packages (from xgboost==1.4.0-SNAPSHOT+4224c08cacceba3f83f90e387c07aa6205a83bfa) (1.4.1)\n",
            "Requirement already satisfied: numpy in /usr/local/lib/python3.7/dist-packages (from xgboost==1.4.0-SNAPSHOT+4224c08cacceba3f83f90e387c07aa6205a83bfa) (1.19.5)\n",
            "Installing collected packages: xgboost\n",
            "Successfully installed xgboost-1.4.0-SNAPSHOT\n",
            "Requirement already satisfied: mlxtend in /usr/local/lib/python3.7/dist-packages (0.14.0)\n",
            "Requirement already satisfied: scipy>=0.17 in /usr/local/lib/python3.7/dist-packages (from mlxtend) (1.4.1)\n",
            "Requirement already satisfied: matplotlib>=1.5.1 in /usr/local/lib/python3.7/dist-packages (from mlxtend) (3.2.2)\n",
            "Requirement already satisfied: scikit-learn>=0.18 in /usr/local/lib/python3.7/dist-packages (from mlxtend) (0.22.2.post1)\n",
            "Requirement already satisfied: setuptools in /usr/local/lib/python3.7/dist-packages (from mlxtend) (57.0.0)\n",
            "Requirement already satisfied: pandas>=0.17.1 in /usr/local/lib/python3.7/dist-packages (from mlxtend) (1.1.5)\n",
            "Requirement already satisfied: numpy>=1.10.4 in /usr/local/lib/python3.7/dist-packages (from mlxtend) (1.19.5)\n",
            "Requirement already satisfied: python-dateutil>=2.1 in /usr/local/lib/python3.7/dist-packages (from matplotlib>=1.5.1->mlxtend) (2.8.1)\n",
            "Requirement already satisfied: kiwisolver>=1.0.1 in /usr/local/lib/python3.7/dist-packages (from matplotlib>=1.5.1->mlxtend) (1.3.1)\n",
            "Requirement already satisfied: cycler>=0.10 in /usr/local/lib/python3.7/dist-packages (from matplotlib>=1.5.1->mlxtend) (0.10.0)\n",
            "Requirement already satisfied: pyparsing!=2.0.4,!=2.1.2,!=2.1.6,>=2.0.1 in /usr/local/lib/python3.7/dist-packages (from matplotlib>=1.5.1->mlxtend) (2.4.7)\n",
            "Requirement already satisfied: joblib>=0.11 in /usr/local/lib/python3.7/dist-packages (from scikit-learn>=0.18->mlxtend) (1.0.1)\n",
            "Requirement already satisfied: pytz>=2017.2 in /usr/local/lib/python3.7/dist-packages (from pandas>=0.17.1->mlxtend) (2018.9)\n",
            "Requirement already satisfied: six>=1.5 in /usr/local/lib/python3.7/dist-packages (from python-dateutil>=2.1->matplotlib>=1.5.1->mlxtend) (1.15.0)\n",
            "Collecting category_encoders\n",
            "\u001b[?25l  Downloading https://files.pythonhosted.org/packages/44/57/fcef41c248701ee62e8325026b90c432adea35555cbc870aff9cfba23727/category_encoders-2.2.2-py2.py3-none-any.whl (80kB)\n",
            "\u001b[K     |████████████████████████████████| 81kB 4.2MB/s \n",
            "\u001b[?25hRequirement already satisfied: scipy>=1.0.0 in /usr/local/lib/python3.7/dist-packages (from category_encoders) (1.4.1)\n",
            "Requirement already satisfied: scikit-learn>=0.20.0 in /usr/local/lib/python3.7/dist-packages (from category_encoders) (0.22.2.post1)\n",
            "Requirement already satisfied: patsy>=0.5.1 in /usr/local/lib/python3.7/dist-packages (from category_encoders) (0.5.1)\n",
            "Requirement already satisfied: statsmodels>=0.9.0 in /usr/local/lib/python3.7/dist-packages (from category_encoders) (0.10.2)\n",
            "Requirement already satisfied: pandas>=0.21.1 in /usr/local/lib/python3.7/dist-packages (from category_encoders) (1.1.5)\n",
            "Requirement already satisfied: numpy>=1.14.0 in /usr/local/lib/python3.7/dist-packages (from category_encoders) (1.19.5)\n",
            "Requirement already satisfied: joblib>=0.11 in /usr/local/lib/python3.7/dist-packages (from scikit-learn>=0.20.0->category_encoders) (1.0.1)\n",
            "Requirement already satisfied: six in /usr/local/lib/python3.7/dist-packages (from patsy>=0.5.1->category_encoders) (1.15.0)\n",
            "Requirement already satisfied: pytz>=2017.2 in /usr/local/lib/python3.7/dist-packages (from pandas>=0.21.1->category_encoders) (2018.9)\n",
            "Requirement already satisfied: python-dateutil>=2.7.3 in /usr/local/lib/python3.7/dist-packages (from pandas>=0.21.1->category_encoders) (2.8.1)\n",
            "Installing collected packages: category-encoders\n",
            "Successfully installed category-encoders-2.2.2\n"
          ],
          "name": "stdout"
        }
      ]
    },
    {
      "cell_type": "code",
      "metadata": {
        "id": "6kOws6X7Bv_5"
      },
      "source": [
        ""
      ],
      "execution_count": null,
      "outputs": []
    },
    {
      "cell_type": "code",
      "metadata": {
        "id": "vK_OTwWhRLpd"
      },
      "source": [
        "#import os\n",
        "#!git clone https://github.com/h2oai/pystacknet\n",
        "#os.chdir('/content/pystacknet/')\n",
        "#!python setup.py install"
      ],
      "execution_count": null,
      "outputs": []
    },
    {
      "cell_type": "code",
      "metadata": {
        "id": "xJiPDqdGxkW-"
      },
      "source": [
        "import pandas as pd\n",
        "import numpy as np\n",
        "import io\n",
        "import warnings\n",
        "warnings.filterwarnings('ignore')\n",
        "import matplotlib.pyplot as plt\n",
        "import seaborn as sb\n",
        "from sklearn.preprocessing import PowerTransformer,LabelEncoder"
      ],
      "execution_count": 2,
      "outputs": []
    },
    {
      "cell_type": "code",
      "metadata": {
        "id": "3YpELYqsxlnU"
      },
      "source": [
        "train,test = pd.read_csv(io.BytesIO(data['train.csv'])),pd.read_csv(io.BytesIO(data['test.csv']))"
      ],
      "execution_count": 17,
      "outputs": []
    },
    {
      "cell_type": "code",
      "metadata": {
        "id": "psgtGBGGxlko",
        "colab": {
          "base_uri": "https://localhost:8080/"
        },
        "outputId": "e0390fb7-def6-4422-f343-6151c4fa9dbf"
      },
      "source": [
        "train.info()"
      ],
      "execution_count": 18,
      "outputs": [
        {
          "output_type": "stream",
          "text": [
            "<class 'pandas.core.frame.DataFrame'>\n",
            "RangeIndex: 19237 entries, 0 to 19236\n",
            "Data columns (total 18 columns):\n",
            " #   Column            Non-Null Count  Dtype  \n",
            "---  ------            --------------  -----  \n",
            " 0   ID                19237 non-null  int64  \n",
            " 1   Price             19237 non-null  int64  \n",
            " 2   Levy              19237 non-null  object \n",
            " 3   Manufacturer      19237 non-null  object \n",
            " 4   Model             19237 non-null  object \n",
            " 5   Prod. year        19237 non-null  int64  \n",
            " 6   Category          19237 non-null  object \n",
            " 7   Leather interior  19237 non-null  object \n",
            " 8   Fuel type         19237 non-null  object \n",
            " 9   Engine volume     19237 non-null  object \n",
            " 10  Mileage           19237 non-null  object \n",
            " 11  Cylinders         19237 non-null  float64\n",
            " 12  Gear box type     19237 non-null  object \n",
            " 13  Drive wheels      19237 non-null  object \n",
            " 14  Doors             19237 non-null  object \n",
            " 15  Wheel             19237 non-null  object \n",
            " 16  Color             19237 non-null  object \n",
            " 17  Airbags           19237 non-null  int64  \n",
            "dtypes: float64(1), int64(4), object(13)\n",
            "memory usage: 2.6+ MB\n"
          ],
          "name": "stdout"
        }
      ]
    },
    {
      "cell_type": "code",
      "metadata": {
        "id": "Te2QG1Rlxlht",
        "colab": {
          "base_uri": "https://localhost:8080/"
        },
        "outputId": "f8fac336-f2e6-4824-dd6f-741fb61f36ea"
      },
      "source": [
        "test.info()"
      ],
      "execution_count": 19,
      "outputs": [
        {
          "output_type": "stream",
          "text": [
            "<class 'pandas.core.frame.DataFrame'>\n",
            "RangeIndex: 8245 entries, 0 to 8244\n",
            "Data columns (total 18 columns):\n",
            " #   Column            Non-Null Count  Dtype  \n",
            "---  ------            --------------  -----  \n",
            " 0   ID                8245 non-null   int64  \n",
            " 1   Levy              8245 non-null   object \n",
            " 2   Manufacturer      8245 non-null   object \n",
            " 3   Model             8245 non-null   object \n",
            " 4   Prod. year        8245 non-null   int64  \n",
            " 5   Category          8245 non-null   object \n",
            " 6   Leather interior  8245 non-null   object \n",
            " 7   Fuel type         8245 non-null   object \n",
            " 8   Engine volume     8245 non-null   object \n",
            " 9   Mileage           8245 non-null   object \n",
            " 10  Cylinders         8245 non-null   int64  \n",
            " 11  Gear box type     8245 non-null   object \n",
            " 12  Drive wheels      8245 non-null   object \n",
            " 13  Doors             8245 non-null   object \n",
            " 14  Wheel             8245 non-null   object \n",
            " 15  Color             8245 non-null   object \n",
            " 16  Airbags           8245 non-null   int64  \n",
            " 17  Price             0 non-null      float64\n",
            "dtypes: float64(1), int64(4), object(13)\n",
            "memory usage: 1.1+ MB\n"
          ],
          "name": "stdout"
        }
      ]
    },
    {
      "cell_type": "code",
      "metadata": {
        "id": "_IjNz-r0xlfS"
      },
      "source": [
        ""
      ],
      "execution_count": 19,
      "outputs": []
    },
    {
      "cell_type": "markdown",
      "metadata": {
        "id": "nNFBCDDt2iv7"
      },
      "source": [
        "## **EDA and Feature Engineering**"
      ]
    },
    {
      "cell_type": "markdown",
      "metadata": {
        "id": "EQ2G3iY_0uQN"
      },
      "source": [
        "### Assissing ID column"
      ]
    },
    {
      "cell_type": "code",
      "metadata": {
        "id": "DDSZ-mPDxa2u",
        "colab": {
          "base_uri": "https://localhost:8080/"
        },
        "outputId": "4155b627-ae2c-4c69-8d8a-524f8d0f5fb1"
      },
      "source": [
        "train.ID.nunique()/train.shape[0]"
      ],
      "execution_count": 20,
      "outputs": [
        {
          "output_type": "execute_result",
          "data": {
            "text/plain": [
              "0.983729271715964"
            ]
          },
          "metadata": {
            "tags": []
          },
          "execution_count": 20
        }
      ]
    },
    {
      "cell_type": "code",
      "metadata": {
        "id": "vemjr6EcxeZs",
        "colab": {
          "base_uri": "https://localhost:8080/"
        },
        "outputId": "bb66ab6b-5ba2-45dd-b9e1-b4a7690475c1"
      },
      "source": [
        "test.ID.nunique()/test.shape[0]"
      ],
      "execution_count": 21,
      "outputs": [
        {
          "output_type": "execute_result",
          "data": {
            "text/plain": [
              "0.9909035779260158"
            ]
          },
          "metadata": {
            "tags": []
          },
          "execution_count": 21
        }
      ]
    },
    {
      "cell_type": "markdown",
      "metadata": {
        "id": "wIjLzJ8vxoL6"
      },
      "source": [
        "Some id's are repeated"
      ]
    },
    {
      "cell_type": "code",
      "metadata": {
        "id": "KB4R-_XyxwGn",
        "colab": {
          "base_uri": "https://localhost:8080/"
        },
        "outputId": "0cbfb171-fc57-479a-e4b9-4db60ebcea9b"
      },
      "source": [
        "train.ID.value_counts()[train.ID.value_counts()>1]"
      ],
      "execution_count": 22,
      "outputs": [
        {
          "output_type": "execute_result",
          "data": {
            "text/plain": [
              "45815365    8\n",
              "45815361    8\n",
              "45815363    7\n",
              "45815368    7\n",
              "45723475    7\n",
              "           ..\n",
              "45809824    2\n",
              "45815232    2\n",
              "45812670    2\n",
              "45813092    2\n",
              "45041479    2\n",
              "Name: ID, Length: 220, dtype: int64"
            ]
          },
          "metadata": {
            "tags": []
          },
          "execution_count": 22
        }
      ]
    },
    {
      "cell_type": "code",
      "metadata": {
        "id": "xwW1hgZExwDJ",
        "colab": {
          "base_uri": "https://localhost:8080/",
          "height": 567
        },
        "outputId": "6e155be9-b54d-4d7f-d592-ec9510e93b9a"
      },
      "source": [
        "train[train.ID==45815368]"
      ],
      "execution_count": 23,
      "outputs": [
        {
          "output_type": "execute_result",
          "data": {
            "text/html": [
              "<div>\n",
              "<style scoped>\n",
              "    .dataframe tbody tr th:only-of-type {\n",
              "        vertical-align: middle;\n",
              "    }\n",
              "\n",
              "    .dataframe tbody tr th {\n",
              "        vertical-align: top;\n",
              "    }\n",
              "\n",
              "    .dataframe thead th {\n",
              "        text-align: right;\n",
              "    }\n",
              "</style>\n",
              "<table border=\"1\" class=\"dataframe\">\n",
              "  <thead>\n",
              "    <tr style=\"text-align: right;\">\n",
              "      <th></th>\n",
              "      <th>ID</th>\n",
              "      <th>Price</th>\n",
              "      <th>Levy</th>\n",
              "      <th>Manufacturer</th>\n",
              "      <th>Model</th>\n",
              "      <th>Prod. year</th>\n",
              "      <th>Category</th>\n",
              "      <th>Leather interior</th>\n",
              "      <th>Fuel type</th>\n",
              "      <th>Engine volume</th>\n",
              "      <th>Mileage</th>\n",
              "      <th>Cylinders</th>\n",
              "      <th>Gear box type</th>\n",
              "      <th>Drive wheels</th>\n",
              "      <th>Doors</th>\n",
              "      <th>Wheel</th>\n",
              "      <th>Color</th>\n",
              "      <th>Airbags</th>\n",
              "    </tr>\n",
              "  </thead>\n",
              "  <tbody>\n",
              "    <tr>\n",
              "      <th>998</th>\n",
              "      <td>45815368</td>\n",
              "      <td>6899</td>\n",
              "      <td>-</td>\n",
              "      <td>HONDA</td>\n",
              "      <td>Stream</td>\n",
              "      <td>2004</td>\n",
              "      <td>Minivan</td>\n",
              "      <td>No</td>\n",
              "      <td>Petrol</td>\n",
              "      <td>1.7</td>\n",
              "      <td>0 km</td>\n",
              "      <td>4.0</td>\n",
              "      <td>Automatic</td>\n",
              "      <td>Front</td>\n",
              "      <td>04-May</td>\n",
              "      <td>Right-hand drive</td>\n",
              "      <td>Silver</td>\n",
              "      <td>4</td>\n",
              "    </tr>\n",
              "    <tr>\n",
              "      <th>4732</th>\n",
              "      <td>45815368</td>\n",
              "      <td>6899</td>\n",
              "      <td>-</td>\n",
              "      <td>HONDA</td>\n",
              "      <td>Stream</td>\n",
              "      <td>2004</td>\n",
              "      <td>Minivan</td>\n",
              "      <td>No</td>\n",
              "      <td>Petrol</td>\n",
              "      <td>1.7</td>\n",
              "      <td>0 km</td>\n",
              "      <td>4.0</td>\n",
              "      <td>Automatic</td>\n",
              "      <td>Front</td>\n",
              "      <td>04-May</td>\n",
              "      <td>Right-hand drive</td>\n",
              "      <td>Silver</td>\n",
              "      <td>4</td>\n",
              "    </tr>\n",
              "    <tr>\n",
              "      <th>5121</th>\n",
              "      <td>45815368</td>\n",
              "      <td>6899</td>\n",
              "      <td>-</td>\n",
              "      <td>HONDA</td>\n",
              "      <td>Stream</td>\n",
              "      <td>2004</td>\n",
              "      <td>Minivan</td>\n",
              "      <td>No</td>\n",
              "      <td>Petrol</td>\n",
              "      <td>1.7</td>\n",
              "      <td>0 km</td>\n",
              "      <td>4.0</td>\n",
              "      <td>Automatic</td>\n",
              "      <td>Front</td>\n",
              "      <td>04-May</td>\n",
              "      <td>Right-hand drive</td>\n",
              "      <td>Silver</td>\n",
              "      <td>4</td>\n",
              "    </tr>\n",
              "    <tr>\n",
              "      <th>5194</th>\n",
              "      <td>45815368</td>\n",
              "      <td>6899</td>\n",
              "      <td>-</td>\n",
              "      <td>HONDA</td>\n",
              "      <td>Stream</td>\n",
              "      <td>2004</td>\n",
              "      <td>Minivan</td>\n",
              "      <td>No</td>\n",
              "      <td>Petrol</td>\n",
              "      <td>1.7</td>\n",
              "      <td>0 km</td>\n",
              "      <td>4.0</td>\n",
              "      <td>Automatic</td>\n",
              "      <td>Front</td>\n",
              "      <td>04-May</td>\n",
              "      <td>Right-hand drive</td>\n",
              "      <td>Silver</td>\n",
              "      <td>4</td>\n",
              "    </tr>\n",
              "    <tr>\n",
              "      <th>9799</th>\n",
              "      <td>45815368</td>\n",
              "      <td>6899</td>\n",
              "      <td>-</td>\n",
              "      <td>HONDA</td>\n",
              "      <td>Stream</td>\n",
              "      <td>2004</td>\n",
              "      <td>Minivan</td>\n",
              "      <td>No</td>\n",
              "      <td>Petrol</td>\n",
              "      <td>1.7</td>\n",
              "      <td>0 km</td>\n",
              "      <td>4.0</td>\n",
              "      <td>Automatic</td>\n",
              "      <td>Front</td>\n",
              "      <td>04-May</td>\n",
              "      <td>Right-hand drive</td>\n",
              "      <td>Silver</td>\n",
              "      <td>4</td>\n",
              "    </tr>\n",
              "    <tr>\n",
              "      <th>11209</th>\n",
              "      <td>45815368</td>\n",
              "      <td>6899</td>\n",
              "      <td>-</td>\n",
              "      <td>HONDA</td>\n",
              "      <td>Stream</td>\n",
              "      <td>2004</td>\n",
              "      <td>Minivan</td>\n",
              "      <td>No</td>\n",
              "      <td>Petrol</td>\n",
              "      <td>1.7</td>\n",
              "      <td>0 km</td>\n",
              "      <td>4.0</td>\n",
              "      <td>Automatic</td>\n",
              "      <td>Front</td>\n",
              "      <td>04-May</td>\n",
              "      <td>Right-hand drive</td>\n",
              "      <td>Silver</td>\n",
              "      <td>4</td>\n",
              "    </tr>\n",
              "    <tr>\n",
              "      <th>16216</th>\n",
              "      <td>45815368</td>\n",
              "      <td>6899</td>\n",
              "      <td>-</td>\n",
              "      <td>HONDA</td>\n",
              "      <td>Stream</td>\n",
              "      <td>2004</td>\n",
              "      <td>Minivan</td>\n",
              "      <td>No</td>\n",
              "      <td>Petrol</td>\n",
              "      <td>1.7</td>\n",
              "      <td>0 km</td>\n",
              "      <td>4.0</td>\n",
              "      <td>Automatic</td>\n",
              "      <td>Front</td>\n",
              "      <td>04-May</td>\n",
              "      <td>Right-hand drive</td>\n",
              "      <td>Silver</td>\n",
              "      <td>4</td>\n",
              "    </tr>\n",
              "  </tbody>\n",
              "</table>\n",
              "</div>"
            ],
            "text/plain": [
              "             ID  Price Levy  ...             Wheel   Color  Airbags\n",
              "998    45815368   6899    -  ...  Right-hand drive  Silver        4\n",
              "4732   45815368   6899    -  ...  Right-hand drive  Silver        4\n",
              "5121   45815368   6899    -  ...  Right-hand drive  Silver        4\n",
              "5194   45815368   6899    -  ...  Right-hand drive  Silver        4\n",
              "9799   45815368   6899    -  ...  Right-hand drive  Silver        4\n",
              "11209  45815368   6899    -  ...  Right-hand drive  Silver        4\n",
              "16216  45815368   6899    -  ...  Right-hand drive  Silver        4\n",
              "\n",
              "[7 rows x 18 columns]"
            ]
          },
          "metadata": {
            "tags": []
          },
          "execution_count": 23
        }
      ]
    },
    {
      "cell_type": "code",
      "metadata": {
        "id": "BpW5M0Yhxv3M"
      },
      "source": [
        "ids_mult_rows = train.ID.value_counts()[train.ID.value_counts()>1].index.values.tolist()"
      ],
      "execution_count": 24,
      "outputs": []
    },
    {
      "cell_type": "code",
      "metadata": {
        "id": "0oRAXvnWV5f5",
        "colab": {
          "base_uri": "https://localhost:8080/"
        },
        "outputId": "f9accc06-0f62-4d63-cef5-20afb3d23341"
      },
      "source": [
        "def return_nunique(x):\n",
        "  return len(set(x))\n",
        "train[train.ID.isin(ids_mult_rows)].groupby(['ID'])['Price'].apply(lambda x : return_nunique(x)).sum()"
      ],
      "execution_count": 25,
      "outputs": [
        {
          "output_type": "execute_result",
          "data": {
            "text/plain": [
              "220"
            ]
          },
          "metadata": {
            "tags": []
          },
          "execution_count": 25
        }
      ]
    },
    {
      "cell_type": "markdown",
      "metadata": {
        "id": "apc0yILlWcL8"
      },
      "source": [
        "Duplicate rows have all unique values in price column. We can apply drop duplicate to remove them"
      ]
    },
    {
      "cell_type": "code",
      "metadata": {
        "id": "zYIGuGRDWbms"
      },
      "source": [
        "train = train.drop_duplicates()"
      ],
      "execution_count": 26,
      "outputs": []
    },
    {
      "cell_type": "code",
      "metadata": {
        "id": "1DNh06O503tU",
        "colab": {
          "base_uri": "https://localhost:8080/"
        },
        "outputId": "3923477a-3c63-47e0-9fb8-ee95ae38964e"
      },
      "source": [
        "train.ID.value_counts()[train.ID.value_counts()>1]"
      ],
      "execution_count": 27,
      "outputs": [
        {
          "output_type": "execute_result",
          "data": {
            "text/plain": [
              "Series([], Name: ID, dtype: int64)"
            ]
          },
          "metadata": {
            "tags": []
          },
          "execution_count": 27
        }
      ]
    },
    {
      "cell_type": "code",
      "metadata": {
        "id": "KjGrIloi03qc"
      },
      "source": [
        "#test = test.drop_duplicates()\n",
        "#test.ID.value_counts()[test.ID.value_counts()>1]"
      ],
      "execution_count": 28,
      "outputs": []
    },
    {
      "cell_type": "code",
      "metadata": {
        "id": "_BdrLvZD03lo"
      },
      "source": [
        ""
      ],
      "execution_count": 28,
      "outputs": []
    },
    {
      "cell_type": "markdown",
      "metadata": {
        "id": "lrQGR1mc3PTW"
      },
      "source": [
        "### **Analyzing target variable**"
      ]
    },
    {
      "cell_type": "code",
      "metadata": {
        "id": "3gU9sGRy5iww"
      },
      "source": [
        "target = 'Price'"
      ],
      "execution_count": 29,
      "outputs": []
    },
    {
      "cell_type": "code",
      "metadata": {
        "colab": {
          "base_uri": "https://localhost:8080/"
        },
        "id": "RM6BQMxfxlc4",
        "outputId": "0fa11f98-2020-4a2a-ac17-b000d976c7f6"
      },
      "source": [
        "train.Price.describe()"
      ],
      "execution_count": 30,
      "outputs": [
        {
          "output_type": "execute_result",
          "data": {
            "text/plain": [
              "count    1.892400e+04\n",
              "mean     1.858744e+04\n",
              "std      1.921356e+05\n",
              "min      1.000000e+00\n",
              "25%      5.331000e+03\n",
              "50%      1.317200e+04\n",
              "75%      2.206300e+04\n",
              "max      2.630750e+07\n",
              "Name: Price, dtype: float64"
            ]
          },
          "metadata": {
            "tags": []
          },
          "execution_count": 30
        }
      ]
    },
    {
      "cell_type": "code",
      "metadata": {
        "colab": {
          "base_uri": "https://localhost:8080/"
        },
        "id": "ilA9onyIxlbK",
        "outputId": "6a4958ae-cf59-4bbb-dca3-dea45296a17d"
      },
      "source": [
        "tar_seq = train[target].values\n",
        "for i in range(95,101,1):\n",
        "  print('Value at percentile {0} : {1}'.format(i,np.percentile(tar_seq,i)))"
      ],
      "execution_count": 31,
      "outputs": [
        {
          "output_type": "stream",
          "text": [
            "Value at percentile 95 : 49410.2999999998\n",
            "Value at percentile 96 : 52959.0\n",
            "Value at percentile 97 : 57189.840000000346\n",
            "Value at percentile 98 : 66485.0\n",
            "Value at percentile 99 : 84675.0\n",
            "Value at percentile 100 : 26307500.0\n"
          ],
          "name": "stdout"
        }
      ]
    },
    {
      "cell_type": "code",
      "metadata": {
        "id": "fTrSRTi4Zr6F"
      },
      "source": [
        "sudden_inc_vals = [627220,   872946, 26307500]"
      ],
      "execution_count": 32,
      "outputs": []
    },
    {
      "cell_type": "code",
      "metadata": {
        "id": "S04fVK47xlZh",
        "colab": {
          "base_uri": "https://localhost:8080/",
          "height": 268
        },
        "outputId": "d99e7309-ab3c-4dd8-9779-a2b26a3d6985"
      },
      "source": [
        "train[train.Price.isin(sudden_inc_vals)]"
      ],
      "execution_count": 33,
      "outputs": [
        {
          "output_type": "execute_result",
          "data": {
            "text/html": [
              "<div>\n",
              "<style scoped>\n",
              "    .dataframe tbody tr th:only-of-type {\n",
              "        vertical-align: middle;\n",
              "    }\n",
              "\n",
              "    .dataframe tbody tr th {\n",
              "        vertical-align: top;\n",
              "    }\n",
              "\n",
              "    .dataframe thead th {\n",
              "        text-align: right;\n",
              "    }\n",
              "</style>\n",
              "<table border=\"1\" class=\"dataframe\">\n",
              "  <thead>\n",
              "    <tr style=\"text-align: right;\">\n",
              "      <th></th>\n",
              "      <th>ID</th>\n",
              "      <th>Price</th>\n",
              "      <th>Levy</th>\n",
              "      <th>Manufacturer</th>\n",
              "      <th>Model</th>\n",
              "      <th>Prod. year</th>\n",
              "      <th>Category</th>\n",
              "      <th>Leather interior</th>\n",
              "      <th>Fuel type</th>\n",
              "      <th>Engine volume</th>\n",
              "      <th>Mileage</th>\n",
              "      <th>Cylinders</th>\n",
              "      <th>Gear box type</th>\n",
              "      <th>Drive wheels</th>\n",
              "      <th>Doors</th>\n",
              "      <th>Wheel</th>\n",
              "      <th>Color</th>\n",
              "      <th>Airbags</th>\n",
              "    </tr>\n",
              "  </thead>\n",
              "  <tbody>\n",
              "    <tr>\n",
              "      <th>1225</th>\n",
              "      <td>45795524</td>\n",
              "      <td>627220</td>\n",
              "      <td>-</td>\n",
              "      <td>MERCEDES-BENZ</td>\n",
              "      <td>G 65 AMG 63AMG</td>\n",
              "      <td>2020</td>\n",
              "      <td>Jeep</td>\n",
              "      <td>Yes</td>\n",
              "      <td>Petrol</td>\n",
              "      <td>6.3 Turbo</td>\n",
              "      <td>0 km</td>\n",
              "      <td>8.0</td>\n",
              "      <td>Tiptronic</td>\n",
              "      <td>4x4</td>\n",
              "      <td>04-May</td>\n",
              "      <td>Left wheel</td>\n",
              "      <td>Black</td>\n",
              "      <td>12</td>\n",
              "    </tr>\n",
              "    <tr>\n",
              "      <th>8541</th>\n",
              "      <td>45761204</td>\n",
              "      <td>872946</td>\n",
              "      <td>2067</td>\n",
              "      <td>LAMBORGHINI</td>\n",
              "      <td>Urus</td>\n",
              "      <td>2019</td>\n",
              "      <td>Universal</td>\n",
              "      <td>Yes</td>\n",
              "      <td>Petrol</td>\n",
              "      <td>4</td>\n",
              "      <td>2531 km</td>\n",
              "      <td>8.0</td>\n",
              "      <td>Tiptronic</td>\n",
              "      <td>4x4</td>\n",
              "      <td>04-May</td>\n",
              "      <td>Left wheel</td>\n",
              "      <td>Black</td>\n",
              "      <td>0</td>\n",
              "    </tr>\n",
              "    <tr>\n",
              "      <th>16983</th>\n",
              "      <td>45812886</td>\n",
              "      <td>26307500</td>\n",
              "      <td>-</td>\n",
              "      <td>OPEL</td>\n",
              "      <td>Combo</td>\n",
              "      <td>1999</td>\n",
              "      <td>Goods wagon</td>\n",
              "      <td>No</td>\n",
              "      <td>Diesel</td>\n",
              "      <td>1.7</td>\n",
              "      <td>99999 km</td>\n",
              "      <td>4.0</td>\n",
              "      <td>Manual</td>\n",
              "      <td>Front</td>\n",
              "      <td>02-Mar</td>\n",
              "      <td>Left wheel</td>\n",
              "      <td>Blue</td>\n",
              "      <td>0</td>\n",
              "    </tr>\n",
              "  </tbody>\n",
              "</table>\n",
              "</div>"
            ],
            "text/plain": [
              "             ID     Price  Levy  ...       Wheel  Color  Airbags\n",
              "1225   45795524    627220     -  ...  Left wheel  Black       12\n",
              "8541   45761204    872946  2067  ...  Left wheel  Black        0\n",
              "16983  45812886  26307500     -  ...  Left wheel   Blue        0\n",
              "\n",
              "[3 rows x 18 columns]"
            ]
          },
          "metadata": {
            "tags": []
          },
          "execution_count": 33
        }
      ]
    },
    {
      "cell_type": "code",
      "metadata": {
        "id": "Wec4u3E8xlXn"
      },
      "source": [
        "train = train.sort_values(ascending = True,by = ['Price'])\n",
        "train.index = range(train.shape[0])"
      ],
      "execution_count": 34,
      "outputs": []
    },
    {
      "cell_type": "code",
      "metadata": {
        "id": "GGT5ZM6QxlVp"
      },
      "source": [
        "train_rem_out = train.loc[:18920,:]"
      ],
      "execution_count": 35,
      "outputs": []
    },
    {
      "cell_type": "code",
      "metadata": {
        "colab": {
          "base_uri": "https://localhost:8080/",
          "height": 346
        },
        "id": "DQymRHCexlT5",
        "outputId": "31bfa648-80fa-4500-e52d-3162bb3f3a34"
      },
      "source": [
        "train['Log_Price'] = train['Price'].map(lambda x : np.log(x+1))\n",
        "pow_trans = PowerTransformer(method='box-cox',standardize=False)\n",
        "train['Pow_Price'] = pow_trans.fit_transform(train['Price'].values.reshape(-1,1))\n",
        "\n",
        "fig,axs = plt.subplots(figsize = (20,5),nrows = 1,ncols = 4)\n",
        "sb.histplot(data=train, x=\"Price\", kde=True,ax=axs[0])\n",
        "sb.histplot(data=train, x=\"Log_Price\", kde=True,ax=axs[1])\n",
        "sb.histplot(data=train, x=\"Pow_Price\", kde=True,ax=axs[2])\n",
        "sb.lineplot(x = train.index,y=train.Price,ax=axs[3])\n",
        "plt.show()"
      ],
      "execution_count": 36,
      "outputs": [
        {
          "output_type": "display_data",
          "data": {
            "image/png": "[encoded data removed]",
            "text/plain": [
              "<Figure size 1440x360 with 4 Axes>"
            ]
          },
          "metadata": {
            "tags": [],
            "needs_background": "light"
          }
        }
      ]
    },
    {
      "cell_type": "code",
      "metadata": {
        "id": "rAhoaayjxlJ0"
      },
      "source": [
        ""
      ],
      "execution_count": null,
      "outputs": []
    },
    {
      "cell_type": "markdown",
      "metadata": {
        "id": "7oJNic9J76Ll"
      },
      "source": [
        "### Analyzing feature columns"
      ]
    },
    {
      "cell_type": "code",
      "metadata": {
        "id": "JhUBGF5rxlHL",
        "colab": {
          "base_uri": "https://localhost:8080/",
          "height": 345
        },
        "outputId": "903ccc28-8cfb-4b78-b40b-e21748cf811c"
      },
      "source": [
        "train.head()"
      ],
      "execution_count": 7,
      "outputs": [
        {
          "output_type": "execute_result",
          "data": {
            "text/html": [
              "<div>\n",
              "<style scoped>\n",
              "    .dataframe tbody tr th:only-of-type {\n",
              "        vertical-align: middle;\n",
              "    }\n",
              "\n",
              "    .dataframe tbody tr th {\n",
              "        vertical-align: top;\n",
              "    }\n",
              "\n",
              "    .dataframe thead th {\n",
              "        text-align: right;\n",
              "    }\n",
              "</style>\n",
              "<table border=\"1\" class=\"dataframe\">\n",
              "  <thead>\n",
              "    <tr style=\"text-align: right;\">\n",
              "      <th></th>\n",
              "      <th>ID</th>\n",
              "      <th>Price</th>\n",
              "      <th>Levy</th>\n",
              "      <th>Manufacturer</th>\n",
              "      <th>Model</th>\n",
              "      <th>Prod. year</th>\n",
              "      <th>Category</th>\n",
              "      <th>Leather interior</th>\n",
              "      <th>Fuel type</th>\n",
              "      <th>Engine volume</th>\n",
              "      <th>Mileage</th>\n",
              "      <th>Cylinders</th>\n",
              "      <th>Gear box type</th>\n",
              "      <th>Drive wheels</th>\n",
              "      <th>Doors</th>\n",
              "      <th>Wheel</th>\n",
              "      <th>Color</th>\n",
              "      <th>Airbags</th>\n",
              "    </tr>\n",
              "  </thead>\n",
              "  <tbody>\n",
              "    <tr>\n",
              "      <th>0</th>\n",
              "      <td>45654403</td>\n",
              "      <td>13328</td>\n",
              "      <td>1399</td>\n",
              "      <td>LEXUS</td>\n",
              "      <td>RX 450</td>\n",
              "      <td>2010</td>\n",
              "      <td>Jeep</td>\n",
              "      <td>Yes</td>\n",
              "      <td>Hybrid</td>\n",
              "      <td>3.5</td>\n",
              "      <td>186005 km</td>\n",
              "      <td>6.0</td>\n",
              "      <td>Automatic</td>\n",
              "      <td>4x4</td>\n",
              "      <td>04-May</td>\n",
              "      <td>Left wheel</td>\n",
              "      <td>Silver</td>\n",
              "      <td>12</td>\n",
              "    </tr>\n",
              "    <tr>\n",
              "      <th>1</th>\n",
              "      <td>44731507</td>\n",
              "      <td>16621</td>\n",
              "      <td>1018</td>\n",
              "      <td>CHEVROLET</td>\n",
              "      <td>Equinox</td>\n",
              "      <td>2011</td>\n",
              "      <td>Jeep</td>\n",
              "      <td>No</td>\n",
              "      <td>Petrol</td>\n",
              "      <td>3</td>\n",
              "      <td>192000 km</td>\n",
              "      <td>6.0</td>\n",
              "      <td>Tiptronic</td>\n",
              "      <td>4x4</td>\n",
              "      <td>04-May</td>\n",
              "      <td>Left wheel</td>\n",
              "      <td>Black</td>\n",
              "      <td>8</td>\n",
              "    </tr>\n",
              "    <tr>\n",
              "      <th>2</th>\n",
              "      <td>45774419</td>\n",
              "      <td>8467</td>\n",
              "      <td>-</td>\n",
              "      <td>HONDA</td>\n",
              "      <td>FIT</td>\n",
              "      <td>2006</td>\n",
              "      <td>Hatchback</td>\n",
              "      <td>No</td>\n",
              "      <td>Petrol</td>\n",
              "      <td>1.3</td>\n",
              "      <td>200000 km</td>\n",
              "      <td>4.0</td>\n",
              "      <td>Variator</td>\n",
              "      <td>Front</td>\n",
              "      <td>04-May</td>\n",
              "      <td>Right-hand drive</td>\n",
              "      <td>Black</td>\n",
              "      <td>2</td>\n",
              "    </tr>\n",
              "    <tr>\n",
              "      <th>3</th>\n",
              "      <td>45769185</td>\n",
              "      <td>3607</td>\n",
              "      <td>862</td>\n",
              "      <td>FORD</td>\n",
              "      <td>Escape</td>\n",
              "      <td>2011</td>\n",
              "      <td>Jeep</td>\n",
              "      <td>Yes</td>\n",
              "      <td>Hybrid</td>\n",
              "      <td>2.5</td>\n",
              "      <td>168966 km</td>\n",
              "      <td>4.0</td>\n",
              "      <td>Automatic</td>\n",
              "      <td>4x4</td>\n",
              "      <td>04-May</td>\n",
              "      <td>Left wheel</td>\n",
              "      <td>White</td>\n",
              "      <td>0</td>\n",
              "    </tr>\n",
              "    <tr>\n",
              "      <th>4</th>\n",
              "      <td>45809263</td>\n",
              "      <td>11726</td>\n",
              "      <td>446</td>\n",
              "      <td>HONDA</td>\n",
              "      <td>FIT</td>\n",
              "      <td>2014</td>\n",
              "      <td>Hatchback</td>\n",
              "      <td>Yes</td>\n",
              "      <td>Petrol</td>\n",
              "      <td>1.3</td>\n",
              "      <td>91901 km</td>\n",
              "      <td>4.0</td>\n",
              "      <td>Automatic</td>\n",
              "      <td>Front</td>\n",
              "      <td>04-May</td>\n",
              "      <td>Left wheel</td>\n",
              "      <td>Silver</td>\n",
              "      <td>4</td>\n",
              "    </tr>\n",
              "  </tbody>\n",
              "</table>\n",
              "</div>"
            ],
            "text/plain": [
              "         ID  Price  Levy  ...             Wheel   Color  Airbags\n",
              "0  45654403  13328  1399  ...        Left wheel  Silver       12\n",
              "1  44731507  16621  1018  ...        Left wheel   Black        8\n",
              "2  45774419   8467     -  ...  Right-hand drive   Black        2\n",
              "3  45769185   3607   862  ...        Left wheel   White        0\n",
              "4  45809263  11726   446  ...        Left wheel  Silver        4\n",
              "\n",
              "[5 rows x 18 columns]"
            ]
          },
          "metadata": {
            "tags": []
          },
          "execution_count": 7
        }
      ]
    },
    {
      "cell_type": "code",
      "metadata": {
        "id": "24EsQ-zRxlFE"
      },
      "source": [
        "train_copy=train.copy()\n",
        "test_copy=test.copy()"
      ],
      "execution_count": 37,
      "outputs": []
    },
    {
      "cell_type": "code",
      "metadata": {
        "id": "S1dYaofOxlDP"
      },
      "source": [
        "########################### Replacing '-' with 0\n",
        "train_copy['Levy'] = train_copy.Levy.map(lambda x : 0 if x=='-' else int(x))\n",
        "test_copy['Levy'] = test_copy.Levy.map(lambda x : 0 if x=='-' else int(x))\n",
        "\n",
        "######################### Number of years passed from production year\n",
        "train_copy['num_years_passed'] = 2021-train_copy['Prod. year']\n",
        "test_copy['num_years_passed'] = 2021-test_copy['Prod. year']\n",
        "\n",
        "####################### Converting engine volume into float\n",
        "train_copy['Engine volume'] = train_copy['Engine volume'].map(lambda x: float(x.split()[0]))\n",
        "test_copy['Engine volume'] = test_copy['Engine volume'].map(lambda x: float(x.split()[0]))\n",
        "\n",
        "###################### Extract number from mileage\n",
        "train_copy.Mileage = train_copy['Mileage'].map(lambda x: float(x.split()[0]))\n",
        "test_copy.Mileage = test_copy['Mileage'].map(lambda x: float(x.split()[0]))\n",
        "\n",
        "###################### Convert door to numeric\n",
        "train_copy.Doors = train_copy.Doors.map(lambda x : int(x.split('-')[0]) if '-' in x else int(x.split('>')[1]))\n",
        "test_copy.Doors = test_copy.Doors.map(lambda x : int(x.split('-')[0]) if '-' in x else int(x.split('>')[1]))"
      ],
      "execution_count": 38,
      "outputs": []
    },
    {
      "cell_type": "code",
      "metadata": {
        "id": "AWvkOJMA1rwK"
      },
      "source": [
        "encoding_cols = ['Manufacturer','Category','Leather interior','Fuel type','Gear box type','Drive wheels','Wheel','Color']"
      ],
      "execution_count": 39,
      "outputs": []
    },
    {
      "cell_type": "code",
      "metadata": {
        "id": "o278fYMg_9sI",
        "colab": {
          "base_uri": "https://localhost:8080/",
          "height": 72
        },
        "outputId": "3a08e53f-bb54-4597-e1f7-aede8d680a74"
      },
      "source": [
        "'''\n",
        "def label_enc_cols(train_data,test_data,cols_to_enc=None):\n",
        "  for c in cols_to_enc:\n",
        "    labenc = LabelEncoder()\n",
        "    df1 = pd.concat([train_data[c],test_data[c]],axis =0)\n",
        "    labenc.fit(df1)\n",
        "    train_data[c] = labenc.transform(train_data[c])\n",
        "    test_data[c] = labenc.transform(test_data[c])\n",
        "  return train_data,test_data\n",
        "train_copy,test_copy = label_enc_cols(train_copy,test_copy,cols_to_enc=encoding_cols)\n",
        "'''"
      ],
      "execution_count": null,
      "outputs": [
        {
          "output_type": "execute_result",
          "data": {
            "application/vnd.google.colaboratory.intrinsic+json": {
              "type": "string"
            },
            "text/plain": [
              "'\\ndef label_enc_cols(train_data,test_data,cols_to_enc=None):\\n  for c in cols_to_enc:\\n    labenc = LabelEncoder()\\n    df1 = pd.concat([train_data[c],test_data[c]],axis =0)\\n    labenc.fit(df1)\\n    train_data[c] = labenc.transform(train_data[c])\\n    test_data[c] = labenc.transform(test_data[c])\\n  return train_data,test_data\\ntrain_copy,test_copy = label_enc_cols(train_copy,test_copy,cols_to_enc=encoding_cols)\\n'"
            ]
          },
          "metadata": {
            "tags": []
          },
          "execution_count": 29
        }
      ]
    },
    {
      "cell_type": "code",
      "metadata": {
        "colab": {
          "base_uri": "https://localhost:8080/"
        },
        "id": "nrZUubYFE_or",
        "outputId": "8e687978-eaea-47dd-d7b7-6f72b5e2dd46"
      },
      "source": [
        "test_copy.shape"
      ],
      "execution_count": null,
      "outputs": [
        {
          "output_type": "execute_result",
          "data": {
            "text/plain": [
              "(8245, 19)"
            ]
          },
          "metadata": {
            "tags": []
          },
          "execution_count": 31
        }
      ]
    },
    {
      "cell_type": "markdown",
      "metadata": {
        "id": "Qlwnh_QLRZ1l"
      },
      "source": [
        "### **Describing each variable and calculating summary statistics**"
      ]
    },
    {
      "cell_type": "code",
      "metadata": {
        "id": "2rcIGRHTE_mN"
      },
      "source": [
        "def create_summ_stats(data,cols_to_remove=None,target_col=None):\n",
        "  cols_to_use = list(set(data.columns)-set(cols_to_remove)) if cols_to_remove!=None else data.columns.tolist()\n",
        "  df1 = pd.DataFrame(columns =['ColName','Dtype','NumUnique','PropNA','Stats'],index=[0])\n",
        "  df2 = pd.DataFrame()\n",
        "  for c in cols_to_use:\n",
        "    df1['ColName']=c\n",
        "    df1['Dtype']=str(data[c].dtype)\n",
        "    df1['NumUnique']=data[c].nunique()\n",
        "    df1['PropNA']=data[c].isnull().sum()/data.shape[0]\n",
        "    df1['ColCat'] = 'binary' if (df1['NumUnique'].values[0]<=2) else 'categorical' if ((df1['NumUnique'].values[0]>2) & (df1['NumUnique'].values[0]<15)) else 'continuous'\n",
        "    df1['Stats'] = str({ j:data[c].describe().to_dict()[j] for j in ['max','mean','min','std','50%']}) if ((df1['ColCat'].values[0]=='continuous') & (df1['Dtype'].values[0]!='object')) else 'None'\n",
        "    df2=df2.append(df1)\n",
        "  return df2"
      ],
      "execution_count": null,
      "outputs": []
    },
    {
      "cell_type": "code",
      "metadata": {
        "colab": {
          "base_uri": "https://localhost:8080/",
          "height": 677
        },
        "id": "7ASoVtua5f1v",
        "outputId": "879a31ff-3b96-48c7-ec7e-c642c2fdc331"
      },
      "source": [
        "create_summ_stats(train_copy,cols_to_remove=['ID'])"
      ],
      "execution_count": null,
      "outputs": [
        {
          "output_type": "execute_result",
          "data": {
            "text/html": [
              "<div>\n",
              "<style scoped>\n",
              "    .dataframe tbody tr th:only-of-type {\n",
              "        vertical-align: middle;\n",
              "    }\n",
              "\n",
              "    .dataframe tbody tr th {\n",
              "        vertical-align: top;\n",
              "    }\n",
              "\n",
              "    .dataframe thead th {\n",
              "        text-align: right;\n",
              "    }\n",
              "</style>\n",
              "<table border=\"1\" class=\"dataframe\">\n",
              "  <thead>\n",
              "    <tr style=\"text-align: right;\">\n",
              "      <th></th>\n",
              "      <th>ColName</th>\n",
              "      <th>Dtype</th>\n",
              "      <th>NumUnique</th>\n",
              "      <th>PropNA</th>\n",
              "      <th>Stats</th>\n",
              "      <th>ColCat</th>\n",
              "    </tr>\n",
              "  </thead>\n",
              "  <tbody>\n",
              "    <tr>\n",
              "      <th>0</th>\n",
              "      <td>Cylinders</td>\n",
              "      <td>float64</td>\n",
              "      <td>13</td>\n",
              "      <td>0.0</td>\n",
              "      <td>None</td>\n",
              "      <td>categorical</td>\n",
              "    </tr>\n",
              "    <tr>\n",
              "      <th>0</th>\n",
              "      <td>Category</td>\n",
              "      <td>object</td>\n",
              "      <td>11</td>\n",
              "      <td>0.0</td>\n",
              "      <td>None</td>\n",
              "      <td>categorical</td>\n",
              "    </tr>\n",
              "    <tr>\n",
              "      <th>0</th>\n",
              "      <td>Fuel type</td>\n",
              "      <td>object</td>\n",
              "      <td>7</td>\n",
              "      <td>0.0</td>\n",
              "      <td>None</td>\n",
              "      <td>categorical</td>\n",
              "    </tr>\n",
              "    <tr>\n",
              "      <th>0</th>\n",
              "      <td>Levy</td>\n",
              "      <td>int64</td>\n",
              "      <td>559</td>\n",
              "      <td>0.0</td>\n",
              "      <td>{'max': 11714.0, 'mean': 632.8864933417882, 'm...</td>\n",
              "      <td>continuous</td>\n",
              "    </tr>\n",
              "    <tr>\n",
              "      <th>0</th>\n",
              "      <td>Engine volume</td>\n",
              "      <td>float64</td>\n",
              "      <td>65</td>\n",
              "      <td>0.0</td>\n",
              "      <td>{'max': 20.0, 'mean': 2.3062513210736757, 'min...</td>\n",
              "      <td>continuous</td>\n",
              "    </tr>\n",
              "    <tr>\n",
              "      <th>0</th>\n",
              "      <td>Mileage</td>\n",
              "      <td>float64</td>\n",
              "      <td>7687</td>\n",
              "      <td>0.0</td>\n",
              "      <td>{'max': 2147483647.0, 'mean': 1555372.71892834...</td>\n",
              "      <td>continuous</td>\n",
              "    </tr>\n",
              "    <tr>\n",
              "      <th>0</th>\n",
              "      <td>Drive wheels</td>\n",
              "      <td>object</td>\n",
              "      <td>3</td>\n",
              "      <td>0.0</td>\n",
              "      <td>None</td>\n",
              "      <td>categorical</td>\n",
              "    </tr>\n",
              "    <tr>\n",
              "      <th>0</th>\n",
              "      <td>Log_Price</td>\n",
              "      <td>float64</td>\n",
              "      <td>2315</td>\n",
              "      <td>0.0</td>\n",
              "      <td>{'max': 17.085364665609077, 'mean': 9.02898089...</td>\n",
              "      <td>continuous</td>\n",
              "    </tr>\n",
              "    <tr>\n",
              "      <th>0</th>\n",
              "      <td>Model</td>\n",
              "      <td>object</td>\n",
              "      <td>1590</td>\n",
              "      <td>0.0</td>\n",
              "      <td>None</td>\n",
              "      <td>continuous</td>\n",
              "    </tr>\n",
              "    <tr>\n",
              "      <th>0</th>\n",
              "      <td>Prod. year</td>\n",
              "      <td>int64</td>\n",
              "      <td>54</td>\n",
              "      <td>0.0</td>\n",
              "      <td>{'max': 2020.0, 'mean': 2010.914235890932, 'mi...</td>\n",
              "      <td>continuous</td>\n",
              "    </tr>\n",
              "    <tr>\n",
              "      <th>0</th>\n",
              "      <td>Doors</td>\n",
              "      <td>int64</td>\n",
              "      <td>3</td>\n",
              "      <td>0.0</td>\n",
              "      <td>None</td>\n",
              "      <td>categorical</td>\n",
              "    </tr>\n",
              "    <tr>\n",
              "      <th>0</th>\n",
              "      <td>Leather interior</td>\n",
              "      <td>object</td>\n",
              "      <td>2</td>\n",
              "      <td>0.0</td>\n",
              "      <td>None</td>\n",
              "      <td>binary</td>\n",
              "    </tr>\n",
              "    <tr>\n",
              "      <th>0</th>\n",
              "      <td>Wheel</td>\n",
              "      <td>object</td>\n",
              "      <td>2</td>\n",
              "      <td>0.0</td>\n",
              "      <td>None</td>\n",
              "      <td>binary</td>\n",
              "    </tr>\n",
              "    <tr>\n",
              "      <th>0</th>\n",
              "      <td>num_years_passed</td>\n",
              "      <td>int64</td>\n",
              "      <td>54</td>\n",
              "      <td>0.0</td>\n",
              "      <td>{'max': 82.0, 'mean': 10.085764109067851, 'min...</td>\n",
              "      <td>continuous</td>\n",
              "    </tr>\n",
              "    <tr>\n",
              "      <th>0</th>\n",
              "      <td>Manufacturer</td>\n",
              "      <td>object</td>\n",
              "      <td>65</td>\n",
              "      <td>0.0</td>\n",
              "      <td>None</td>\n",
              "      <td>continuous</td>\n",
              "    </tr>\n",
              "    <tr>\n",
              "      <th>0</th>\n",
              "      <td>Price</td>\n",
              "      <td>int64</td>\n",
              "      <td>2315</td>\n",
              "      <td>0.0</td>\n",
              "      <td>{'max': 26307500.0, 'mean': 18587.435267385332...</td>\n",
              "      <td>continuous</td>\n",
              "    </tr>\n",
              "    <tr>\n",
              "      <th>0</th>\n",
              "      <td>Gear box type</td>\n",
              "      <td>object</td>\n",
              "      <td>4</td>\n",
              "      <td>0.0</td>\n",
              "      <td>None</td>\n",
              "      <td>categorical</td>\n",
              "    </tr>\n",
              "    <tr>\n",
              "      <th>0</th>\n",
              "      <td>Color</td>\n",
              "      <td>object</td>\n",
              "      <td>16</td>\n",
              "      <td>0.0</td>\n",
              "      <td>None</td>\n",
              "      <td>continuous</td>\n",
              "    </tr>\n",
              "    <tr>\n",
              "      <th>0</th>\n",
              "      <td>Pow_Price</td>\n",
              "      <td>float64</td>\n",
              "      <td>2315</td>\n",
              "      <td>0.0</td>\n",
              "      <td>{'max': 404.052589223868, 'mean': 43.938697060...</td>\n",
              "      <td>continuous</td>\n",
              "    </tr>\n",
              "    <tr>\n",
              "      <th>0</th>\n",
              "      <td>Airbags</td>\n",
              "      <td>int64</td>\n",
              "      <td>17</td>\n",
              "      <td>0.0</td>\n",
              "      <td>{'max': 16.0, 'mean': 6.568378778270978, 'min'...</td>\n",
              "      <td>continuous</td>\n",
              "    </tr>\n",
              "  </tbody>\n",
              "</table>\n",
              "</div>"
            ],
            "text/plain": [
              "            ColName  ...       ColCat\n",
              "0         Cylinders  ...  categorical\n",
              "0          Category  ...  categorical\n",
              "0         Fuel type  ...  categorical\n",
              "0              Levy  ...   continuous\n",
              "0     Engine volume  ...   continuous\n",
              "0           Mileage  ...   continuous\n",
              "0      Drive wheels  ...  categorical\n",
              "0         Log_Price  ...   continuous\n",
              "0             Model  ...   continuous\n",
              "0        Prod. year  ...   continuous\n",
              "0             Doors  ...  categorical\n",
              "0  Leather interior  ...       binary\n",
              "0             Wheel  ...       binary\n",
              "0  num_years_passed  ...   continuous\n",
              "0      Manufacturer  ...   continuous\n",
              "0             Price  ...   continuous\n",
              "0     Gear box type  ...  categorical\n",
              "0             Color  ...   continuous\n",
              "0         Pow_Price  ...   continuous\n",
              "0           Airbags  ...   continuous\n",
              "\n",
              "[20 rows x 6 columns]"
            ]
          },
          "metadata": {
            "tags": []
          },
          "execution_count": 33
        }
      ]
    },
    {
      "cell_type": "code",
      "metadata": {
        "id": "6OtQFVcw6OaO"
      },
      "source": [
        ""
      ],
      "execution_count": null,
      "outputs": []
    },
    {
      "cell_type": "markdown",
      "metadata": {
        "id": "KYfljJE_6Ovo"
      },
      "source": [
        "### Analyzing remaining features"
      ]
    },
    {
      "cell_type": "code",
      "metadata": {
        "id": "xl5NYCdeEUbB",
        "outputId": "2ba28ad2-61a2-4dfc-c40a-3897d0a04a5c",
        "colab": {
          "base_uri": "https://localhost:8080/"
        }
      },
      "source": [
        "train_copy.shape"
      ],
      "execution_count": 40,
      "outputs": [
        {
          "output_type": "execute_result",
          "data": {
            "text/plain": [
              "(18924, 21)"
            ]
          },
          "metadata": {
            "tags": []
          },
          "execution_count": 40
        }
      ]
    },
    {
      "cell_type": "code",
      "metadata": {
        "colab": {
          "base_uri": "https://localhost:8080/"
        },
        "id": "YDHz2-3X5fzU",
        "outputId": "11de40c2-1ff9-4ab6-cd91-38d590152702"
      },
      "source": [
        "print('Prod year in train not in test : {0}'.format(set(train_copy['Prod. year'])-set(test_copy['Prod. year'])))\n",
        "print('Prod year in test not in train : {0}'.format(set(test_copy['Prod. year'])-set(train_copy['Prod. year'])))"
      ],
      "execution_count": 41,
      "outputs": [
        {
          "output_type": "stream",
          "text": [
            "Prod year in train not in test : {1953, 1985, 1957, 1964, 1965, 1939, 1973, 1976, 1977, 1978, 1947, 1980, 1982, 1983}\n",
            "Prod year in test not in train : {1956, 1961, 1966, 1970, 1979}\n"
          ],
          "name": "stdout"
        }
      ]
    },
    {
      "cell_type": "code",
      "metadata": {
        "id": "Hnfp2vc55fwg",
        "colab": {
          "base_uri": "https://localhost:8080/"
        },
        "outputId": "2d110a5d-2990-44bd-9f02-d33c949c5b26"
      },
      "source": [
        "import math\n",
        "prod_yr_grp = list(set([ math.floor(i/10)*10 for i in train_copy['Prod. year'].unique().tolist()+test_copy['Prod. year'].unique().tolist() ]))\n",
        "prod_yr_grp = [ list(range(i,i+10)) for i in prod_yr_grp ]\n",
        "prod_yr_grp = [ [i[:5],i[5:]] for i in prod_yr_grp]\n",
        "prod_yr_grp = [ j  for i in prod_yr_grp for j in i]\n",
        "prod_yr_grp"
      ],
      "execution_count": 42,
      "outputs": [
        {
          "output_type": "execute_result",
          "data": {
            "text/plain": [
              "[[2020, 2021, 2022, 2023, 2024],\n",
              " [2025, 2026, 2027, 2028, 2029],\n",
              " [1990, 1991, 1992, 1993, 1994],\n",
              " [1995, 1996, 1997, 1998, 1999],\n",
              " [1960, 1961, 1962, 1963, 1964],\n",
              " [1965, 1966, 1967, 1968, 1969],\n",
              " [1930, 1931, 1932, 1933, 1934],\n",
              " [1935, 1936, 1937, 1938, 1939],\n",
              " [2000, 2001, 2002, 2003, 2004],\n",
              " [2005, 2006, 2007, 2008, 2009],\n",
              " [1970, 1971, 1972, 1973, 1974],\n",
              " [1975, 1976, 1977, 1978, 1979],\n",
              " [1940, 1941, 1942, 1943, 1944],\n",
              " [1945, 1946, 1947, 1948, 1949],\n",
              " [2010, 2011, 2012, 2013, 2014],\n",
              " [2015, 2016, 2017, 2018, 2019],\n",
              " [1980, 1981, 1982, 1983, 1984],\n",
              " [1985, 1986, 1987, 1988, 1989],\n",
              " [1950, 1951, 1952, 1953, 1954],\n",
              " [1955, 1956, 1957, 1958, 1959]]"
            ]
          },
          "metadata": {
            "tags": []
          },
          "execution_count": 42
        }
      ]
    },
    {
      "cell_type": "code",
      "metadata": {
        "id": "vuf-tqOW5fr4"
      },
      "source": [
        "def prod_yr_cat(x):\n",
        "  return [ min(i) for i in prod_yr_grp if x in i ][0]\n",
        "train_copy['prod_yr_cat'] = train_copy['Prod. year'].map(lambda x :prod_yr_cat(x))\n",
        "test_copy['prod_yr_cat'] = test_copy['Prod. year'].map(lambda x :prod_yr_cat(x))"
      ],
      "execution_count": 43,
      "outputs": []
    },
    {
      "cell_type": "code",
      "metadata": {
        "id": "EZFudUmXDr_Q",
        "outputId": "4e84c0e2-b7b4-4db2-90c2-88f4f9337c4d",
        "colab": {
          "base_uri": "https://localhost:8080/",
          "height": 366
        }
      },
      "source": [
        "df = pd.DataFrame(train_copy.groupby(['prod_yr_cat'])['Price'].mean().sort_values(ascending = False))\n",
        "df.plot.bar(figsize=(15, 5))\n",
        "plt.title('Prod yr cat vs Average Price')\n",
        "plt.show()"
      ],
      "execution_count": 44,
      "outputs": [
        {
          "output_type": "display_data",
          "data": {
            "image/png": "[encoded data removed]",
            "text/plain": [
              "<Figure size 1080x360 with 1 Axes>"
            ]
          },
          "metadata": {
            "tags": [],
            "needs_background": "light"
          }
        }
      ]
    },
    {
      "cell_type": "code",
      "metadata": {
        "colab": {
          "base_uri": "https://localhost:8080/",
          "height": 606
        },
        "id": "cNAXcW-Zgwfj",
        "outputId": "d9c96905-1384-48fa-cea1-4ad45f01caeb"
      },
      "source": [
        "######################## Change in price according to production year\n",
        "train_rem_out = train_copy.loc[:18920,:]\n",
        "df1 = train_rem_out[['Prod. year','Price']].sort_values(ascending = True,by=['Prod. year'])\n",
        "plt.figure(figsize = (20,10))\n",
        "sb.scatterplot(x = df1['Prod. year'],y = df1['Price'])\n",
        "plt.show()"
      ],
      "execution_count": 45,
      "outputs": [
        {
          "output_type": "display_data",
          "data": {
            "image/png": "[encoded data removed]",
            "text/plain": [
              "<Figure size 1440x720 with 1 Axes>"
            ]
          },
          "metadata": {
            "tags": [],
            "needs_background": "light"
          }
        }
      ]
    },
    {
      "cell_type": "markdown",
      "metadata": {
        "id": "OASI6ZxvE6Ul"
      },
      "source": [
        "We can try to fit an exponential growth function between production year and log price"
      ]
    },
    {
      "cell_type": "code",
      "metadata": {
        "id": "PN-i__CEE7XN"
      },
      "source": [
        "###################### Fit an exponential growth function. Run CV multiple times over the dataset to get reliable estimate of parameters\n",
        "from sklearn.linear_model import LinearRegression,HuberRegressor\n",
        "from sklearn.model_selection import cross_val_score,cross_val_predict,cross_validate\n",
        "from sklearn.metrics import make_scorer,mean_squared_error\n",
        "def score1(actual,pred):\n",
        "  mse = mean_squared_error(actual,pred)\n",
        "  return np.sqrt(mse)\n",
        "score2=make_scorer(score1,greater_is_better=False)\n",
        "slope_list,inter_list = [],[]\n",
        "for i in range(20):\n",
        "  df1 = train_copy[['Prod. year','Price']].sample(frac=1)\n",
        "  df1['Price'] = df1['Price'].map(lambda x : np.log1p(x))\n",
        "  linreg_fit = cross_validate(LinearRegression(fit_intercept=True),df1['Prod. year'].values.reshape(-1,1),df1['Price'],scoring=score2,cv=3,return_estimator=True)\n",
        "  slope,intercept = np.mean([ i.coef_ for i in linreg_fit['estimator'] ]),np.mean([ i.intercept_ for i in linreg_fit['estimator'] ])\n",
        "  slope_list.append(slope)\n",
        "  inter_list.append(intercept)\n",
        "\n",
        "cv_slope = np.mean(slope_list)\n",
        "cv_intercept = np.mean(inter_list)\n",
        "train_copy['log_price_grow_pred'] = cv_intercept+ cv_slope*train_copy['Prod. year']\n",
        "test_copy['log_price_grow_pred'] = cv_intercept+ cv_slope*train_copy['Prod. year']"
      ],
      "execution_count": 47,
      "outputs": []
    },
    {
      "cell_type": "code",
      "metadata": {
        "id": "TOwXp1tUE7UA",
        "outputId": "6d8a35cd-cfe9-4752-af60-bc732e449dd7",
        "colab": {
          "base_uri": "https://localhost:8080/"
        }
      },
      "source": [
        "############################### \n",
        "print('Category in train not in test : {0}'.format(set(train_copy['Category'])-set(test_copy['Category'])))\n",
        "print('Category in test not in train : {0}'.format(set(test_copy['Category'])-set(train_copy['Category'])))"
      ],
      "execution_count": 48,
      "outputs": [
        {
          "output_type": "stream",
          "text": [
            "Category in train not in test : set()\n",
            "Category in test not in train : set()\n"
          ],
          "name": "stdout"
        }
      ]
    },
    {
      "cell_type": "code",
      "metadata": {
        "id": "6DJwsAqDE7Qm"
      },
      "source": [
        "################################# Category wise production year\n",
        "t1 = train_copy.groupby(['Category','prod_yr_cat'])['Price'].agg([np.count_nonzero,np.min,np.max,np.mean,np.median,np.std]).reset_index().sort_values(ascending=False,by=['count_nonzero'])\n",
        "t1['cat_yr'] = t1['Category']+'_'+t1['prod_yr_cat'].astype(str)"
      ],
      "execution_count": 49,
      "outputs": []
    },
    {
      "cell_type": "code",
      "metadata": {
        "id": "efl023fuFikN",
        "outputId": "755c86db-a5bc-42df-f5d2-ddeb1f512e92",
        "colab": {
          "base_uri": "https://localhost:8080/",
          "height": 338
        }
      },
      "source": [
        "fig,axs = plt.subplots(figsize=(20,5),nrows=1,ncols=2)\n",
        "t1[['cat_yr','mean']].plot.bar(figsize=(15,5),ax=axs[0],title='Cat year vs Mean Price')\n",
        "t1[['cat_yr','median']].plot.bar(figsize=(15,5),ax=axs[1],title='Cat year vs Median Price')\n",
        "plt.show()"
      ],
      "execution_count": 50,
      "outputs": [
        {
          "output_type": "display_data",
          "data": {
            "image/png": "[encoded data removed]",
            "text/plain": [
              "<Figure size 1080x360 with 2 Axes>"
            ]
          },
          "metadata": {
            "tags": [],
            "needs_background": "light"
          }
        }
      ]
    },
    {
      "cell_type": "markdown",
      "metadata": {
        "id": "sJQkehVDFnsW"
      },
      "source": [
        "Mean price differs across category-prod year column.We can target encode categories in the next set of iterations"
      ]
    },
    {
      "cell_type": "code",
      "metadata": {
        "id": "9WKNay74FnUQ"
      },
      "source": [
        "train_copy['cat_prodyr_comb'] = train_copy.Category+'_'+train_copy.prod_yr_cat.astype(str)\n",
        "test_copy['cat_prodyr_comb'] = test_copy.Category+'_'+test_copy.prod_yr_cat.astype(str)"
      ],
      "execution_count": 51,
      "outputs": []
    },
    {
      "cell_type": "code",
      "metadata": {
        "id": "dAiqCcRZFihP",
        "outputId": "548625d6-b4fd-4e3e-93e0-bb2ddeeb8d34",
        "colab": {
          "base_uri": "https://localhost:8080/",
          "height": 407
        }
      },
      "source": [
        "df = pd.DataFrame(train_copy.groupby(['Category'])['Price'].mean().sort_values(ascending = False))\n",
        "df.plot.bar(figsize=(15,5))\n",
        "plt.title('Category vs Average Price')\n",
        "plt.show()"
      ],
      "execution_count": 52,
      "outputs": [
        {
          "output_type": "display_data",
          "data": {
            "image/png": "[encoded data removed]",
            "text/plain": [
              "<Figure size 1080x360 with 1 Axes>"
            ]
          },
          "metadata": {
            "tags": [],
            "needs_background": "light"
          }
        }
      ]
    },
    {
      "cell_type": "markdown",
      "metadata": {
        "id": "qWXej1AEF1Lv"
      },
      "source": [
        "We can see Goods Wagon have sigificantly high mean price as compared to other categories. Create a binary variable indicating goods wagon category"
      ]
    },
    {
      "cell_type": "code",
      "metadata": {
        "id": "GaE1xyTaFice",
        "outputId": "4574c36b-fe1b-489d-a382-f54c78df6550",
        "colab": {
          "base_uri": "https://localhost:8080/"
        }
      },
      "source": [
        "############################### \n",
        "print('Manufacturer in train not in test : {0}'.format(set(train_copy['Manufacturer'])-set(test_copy['Manufacturer'])))\n",
        "print('Manufacturer in test not in train : {0}'.format(set(test_copy['Manufacturer'])-set(train_copy['Manufacturer'])))"
      ],
      "execution_count": 53,
      "outputs": [
        {
          "output_type": "stream",
          "text": [
            "Manufacturer in train not in test : {'HAVAL', 'PONTIAC', 'SEAT', 'ROLLS-ROYCE', 'LAMBORGHINI', 'LANCIA'}\n",
            "Manufacturer in test not in train : {'FOTON', 'TATA', 'MG'}\n"
          ],
          "name": "stdout"
        }
      ]
    },
    {
      "cell_type": "code",
      "metadata": {
        "id": "Z5tjmTCEFiZf",
        "outputId": "b247f790-c350-40a7-cb1a-26cf265f8efb",
        "colab": {
          "base_uri": "https://localhost:8080/",
          "height": 425
        }
      },
      "source": [
        "df = pd.DataFrame(train_copy.groupby(['Manufacturer'])['Price'].mean().sort_values(ascending = False))\n",
        "df = df/100000\n",
        "df.plot.bar(figsize=(15,5))\n",
        "plt.title('Manufacturer vs Average Price')\n",
        "plt.show()"
      ],
      "execution_count": 54,
      "outputs": [
        {
          "output_type": "display_data",
          "data": {
            "image/png": "[encoded data removed]",
            "text/plain": [
              "<Figure size 1080x360 with 1 Axes>"
            ]
          },
          "metadata": {
            "tags": [],
            "needs_background": "light"
          }
        }
      ]
    },
    {
      "cell_type": "markdown",
      "metadata": {
        "id": "kJvcPaC9GPQG"
      },
      "source": [
        "Two manufacturers have high mean price : Lamborghini and Bentley. A group of manufacturers have similar mean range. Try to check if target encoding works as price ranges differ across categories"
      ]
    },
    {
      "cell_type": "code",
      "metadata": {
        "id": "6tktjvkDFiWN"
      },
      "source": [
        ""
      ],
      "execution_count": null,
      "outputs": []
    },
    {
      "cell_type": "code",
      "metadata": {
        "id": "SD6BKfjAgwdR"
      },
      "source": [
        "############################ Combine manufacturer and category \n",
        "train_copy['manu_cat'] = train_copy.Manufacturer + '_' + train_copy.Category\n",
        "test_copy['manu_cat'] = test_copy.Manufacturer + '_' + test_copy.Category"
      ],
      "execution_count": 55,
      "outputs": []
    },
    {
      "cell_type": "code",
      "metadata": {
        "id": "kxqbFa4vgwa7",
        "colab": {
          "base_uri": "https://localhost:8080/",
          "height": 606
        },
        "outputId": "4224a54f-f3f7-4526-99d2-aea9d22267b4"
      },
      "source": [
        "############################### Assessing violin plot for remaining categorical variables\n",
        "fig,axs =  plt.subplots(figsize = (20,10),nrows=2,ncols=4)\n",
        "cols_to_plot = ['Leather interior','Fuel type','Gear box type','Drive wheels','Wheel','Doors','Cylinders','Color']\n",
        "indxs = [[i,j] for i in range(2) for j in range(4)]\n",
        "for i,j in zip(indxs,cols_to_plot):\n",
        "  sb.violinplot(x=train_rem_out[j],y=train_rem_out['Price'],ax=axs[i[0],i[1]])\n",
        "plt.show()"
      ],
      "execution_count": 56,
      "outputs": [
        {
          "output_type": "display_data",
          "data": {
            "image/png": "[encoded data removed]",
            "text/plain": [
              "<Figure size 1440x720 with 8 Axes>"
            ]
          },
          "metadata": {
            "tags": [],
            "needs_background": "light"
          }
        }
      ]
    },
    {
      "cell_type": "code",
      "metadata": {
        "colab": {
          "base_uri": "https://localhost:8080/",
          "height": 408
        },
        "id": "2jOGYVIkgwYL",
        "outputId": "1d57258f-8adf-4f90-fc78-05b5c3657656"
      },
      "source": [
        "cols_to_plot = ['Leather interior','Fuel type','Gear box type','Drive wheels','Wheel','Doors','Cylinders','Color']\n",
        "cols_ind = [ [i,j] for i in range(2) for j in range(4)]\n",
        "fig,axs = plt.subplots(figsize = (20,5),nrows=2,ncols=4)\n",
        "for i,j in zip(cols_ind,cols_to_plot):\n",
        "  df = pd.DataFrame(train_copy.groupby([j])['Price'].mean().sort_values(ascending = False))\n",
        "  df = df/100000\n",
        "  df.plot.bar(figsize=(15,5),ax=axs[i[0],i[1]])\n",
        "  #axs[i[0],i[1]].set_title('{0} vs Average Price'.format(j))\n",
        "\n",
        "plt.show()"
      ],
      "execution_count": 57,
      "outputs": [
        {
          "output_type": "display_data",
          "data": {
            "image/png": "[encoded data removed]",
            "text/plain": [
              "<Figure size 1080x360 with 8 Axes>"
            ]
          },
          "metadata": {
            "tags": [],
            "needs_background": "light"
          }
        }
      ]
    },
    {
      "cell_type": "code",
      "metadata": {
        "id": "7HHb2890rpoI"
      },
      "source": [
        "train_copy['leat_gear'] = train_copy['Leather interior'] + '_' + train_copy['Gear box type']\n",
        "test_copy['leat_gear'] = test_copy['Leather interior'] + '_' + test_copy['Gear box type']"
      ],
      "execution_count": null,
      "outputs": []
    },
    {
      "cell_type": "code",
      "metadata": {
        "colab": {
          "base_uri": "https://localhost:8080/"
        },
        "id": "ADS0CXj2FMGD",
        "outputId": "d2eb1a66-9f21-4ddb-9bdc-caa9534ecca0"
      },
      "source": [
        "########################## Applying linear regression between target and categorical variables and assessing sqrt(r_squared) as a proxy \n",
        "########################## to correlation between target and categorical variable.\n",
        "cat_reg = ['Leather interior','Fuel type','Gear box type','Drive wheels','Wheel','Color','Manufacturer','Category','manu_cat','leat_gear']\n",
        "import statsmodels.api as sm\n",
        "for i in cat_reg:\n",
        "  X = pd.get_dummies(train_copy[i],columns=[i])\n",
        "  #X = sm.add_constant(X)\n",
        "  Y=train_copy.Log_Price.values\n",
        "  model = sm.OLS(Y,X)\n",
        "  results = model.fit()\n",
        "  print('Regressor ',i,' Corr : ',str(np.sqrt(results.rsquared)),' Rsq : ',str(results.rsquared))"
      ],
      "execution_count": null,
      "outputs": [
        {
          "output_type": "stream",
          "text": [
            "Regressor  Leather interior  Corr :  0.022383660732896292  Rsq :  0.0005010282678054034\n",
            "Regressor  Fuel type  Corr :  0.2491630531806783  Rsq :  0.06208222707031752\n",
            "Regressor  Gear box type  Corr :  0.22414306919087545  Rsq :  0.05024011546630558\n",
            "Regressor  Drive wheels  Corr :  0.0728323683526361  Rsq :  0.005304553879854068\n",
            "Regressor  Wheel  Corr :  0.08426772881355848  Rsq :  0.007101050119395436\n",
            "Regressor  Color  Corr :  0.06721182890429482  Rsq :  0.004517429944660201\n",
            "Regressor  Manufacturer  Corr :  0.2718185264139605  Rsq :  0.07388531130185694\n",
            "Regressor  Category  Corr :  0.16910789691761258  Rsq :  0.02859748079989788\n",
            "Regressor  manu_cat  Corr :  0.3516155079666885  Rsq :  0.1236334654426724\n",
            "Regressor  leat_gear  Corr :  0.23392843492699886  Rsq :  0.05472251266739514\n"
          ],
          "name": "stdout"
        }
      ]
    },
    {
      "cell_type": "code",
      "metadata": {
        "id": "W6qTbWVPuY55",
        "outputId": "76df2f1b-6b50-414a-987f-296a9e85de49",
        "colab": {
          "base_uri": "https://localhost:8080/",
          "height": 269
        }
      },
      "source": [
        "train_copy[['Levy','Engine volume','Cylinders','Doors','Mileage','Airbags','Log_Price']].corr()"
      ],
      "execution_count": 58,
      "outputs": [
        {
          "output_type": "execute_result",
          "data": {
            "text/html": [
              "<div>\n",
              "<style scoped>\n",
              "    .dataframe tbody tr th:only-of-type {\n",
              "        vertical-align: middle;\n",
              "    }\n",
              "\n",
              "    .dataframe tbody tr th {\n",
              "        vertical-align: top;\n",
              "    }\n",
              "\n",
              "    .dataframe thead th {\n",
              "        text-align: right;\n",
              "    }\n",
              "</style>\n",
              "<table border=\"1\" class=\"dataframe\">\n",
              "  <thead>\n",
              "    <tr style=\"text-align: right;\">\n",
              "      <th></th>\n",
              "      <th>Levy</th>\n",
              "      <th>Engine volume</th>\n",
              "      <th>Cylinders</th>\n",
              "      <th>Doors</th>\n",
              "      <th>Mileage</th>\n",
              "      <th>Airbags</th>\n",
              "      <th>Log_Price</th>\n",
              "    </tr>\n",
              "  </thead>\n",
              "  <tbody>\n",
              "    <tr>\n",
              "      <th>Levy</th>\n",
              "      <td>1.000000</td>\n",
              "      <td>0.378117</td>\n",
              "      <td>0.251632</td>\n",
              "      <td>0.096430</td>\n",
              "      <td>-0.021203</td>\n",
              "      <td>0.125015</td>\n",
              "      <td>-0.057257</td>\n",
              "    </tr>\n",
              "    <tr>\n",
              "      <th>Engine volume</th>\n",
              "      <td>0.378117</td>\n",
              "      <td>1.000000</td>\n",
              "      <td>0.777228</td>\n",
              "      <td>-0.017697</td>\n",
              "      <td>-0.006292</td>\n",
              "      <td>0.221991</td>\n",
              "      <td>-0.021627</td>\n",
              "    </tr>\n",
              "    <tr>\n",
              "      <th>Cylinders</th>\n",
              "      <td>0.251632</td>\n",
              "      <td>0.777228</td>\n",
              "      <td>1.000000</td>\n",
              "      <td>-0.036033</td>\n",
              "      <td>-0.001720</td>\n",
              "      <td>0.174112</td>\n",
              "      <td>-0.042971</td>\n",
              "    </tr>\n",
              "    <tr>\n",
              "      <th>Doors</th>\n",
              "      <td>0.096430</td>\n",
              "      <td>-0.017697</td>\n",
              "      <td>-0.036033</td>\n",
              "      <td>1.000000</td>\n",
              "      <td>-0.006287</td>\n",
              "      <td>0.048088</td>\n",
              "      <td>-0.017282</td>\n",
              "    </tr>\n",
              "    <tr>\n",
              "      <th>Mileage</th>\n",
              "      <td>-0.021203</td>\n",
              "      <td>-0.006292</td>\n",
              "      <td>-0.001720</td>\n",
              "      <td>-0.006287</td>\n",
              "      <td>1.000000</td>\n",
              "      <td>-0.009174</td>\n",
              "      <td>-0.019186</td>\n",
              "    </tr>\n",
              "    <tr>\n",
              "      <th>Airbags</th>\n",
              "      <td>0.125015</td>\n",
              "      <td>0.221991</td>\n",
              "      <td>0.174112</td>\n",
              "      <td>0.048088</td>\n",
              "      <td>-0.009174</td>\n",
              "      <td>1.000000</td>\n",
              "      <td>-0.096414</td>\n",
              "    </tr>\n",
              "    <tr>\n",
              "      <th>Log_Price</th>\n",
              "      <td>-0.057257</td>\n",
              "      <td>-0.021627</td>\n",
              "      <td>-0.042971</td>\n",
              "      <td>-0.017282</td>\n",
              "      <td>-0.019186</td>\n",
              "      <td>-0.096414</td>\n",
              "      <td>1.000000</td>\n",
              "    </tr>\n",
              "  </tbody>\n",
              "</table>\n",
              "</div>"
            ],
            "text/plain": [
              "                   Levy  Engine volume  ...   Airbags  Log_Price\n",
              "Levy           1.000000       0.378117  ...  0.125015  -0.057257\n",
              "Engine volume  0.378117       1.000000  ...  0.221991  -0.021627\n",
              "Cylinders      0.251632       0.777228  ...  0.174112  -0.042971\n",
              "Doors          0.096430      -0.017697  ...  0.048088  -0.017282\n",
              "Mileage       -0.021203      -0.006292  ... -0.009174  -0.019186\n",
              "Airbags        0.125015       0.221991  ...  1.000000  -0.096414\n",
              "Log_Price     -0.057257      -0.021627  ... -0.096414   1.000000\n",
              "\n",
              "[7 rows x 7 columns]"
            ]
          },
          "metadata": {
            "tags": []
          },
          "execution_count": 58
        }
      ]
    },
    {
      "cell_type": "code",
      "metadata": {
        "id": "LNG5BhjsHlNf",
        "outputId": "f44cda3b-d7c5-41aa-c22c-52503d1e6254",
        "colab": {
          "base_uri": "https://localhost:8080/",
          "height": 592
        }
      },
      "source": [
        "#fig,axs = plt.subplots(figsize = (20,5),nrows=1,ncols=2)\n",
        "train_rem_out = train_copy.loc[:18920,:]\n",
        "df1 = train_rem_out[['Mileage','Price']].sort_values(ascending = True,by=['Mileage'])\n",
        "df1['Mileage'] = df1.Mileage/1e9\n",
        "plt.figure(figsize = (20,10))\n",
        "sb.scatterplot(x = df1['Mileage'].values,y = df1['Price'].values)\n",
        "plt.show()"
      ],
      "execution_count": 59,
      "outputs": [
        {
          "output_type": "display_data",
          "data": {
            "image/png": "[encoded data removed]",
            "text/plain": [
              "<Figure size 1440x720 with 1 Axes>"
            ]
          },
          "metadata": {
            "tags": [],
            "needs_background": "light"
          }
        }
      ]
    },
    {
      "cell_type": "markdown",
      "metadata": {
        "id": "J5eguVy2HoNY"
      },
      "source": [
        "We can see that as mileage increases the prices also decreases. We can create a mileage  bucket."
      ]
    },
    {
      "cell_type": "code",
      "metadata": {
        "id": "QkXF1DVHHoAt"
      },
      "source": [
        ""
      ],
      "execution_count": null,
      "outputs": []
    },
    {
      "cell_type": "markdown",
      "metadata": {
        "id": "WyRvYlj9322Z"
      },
      "source": [
        "### **Model training,cross validation and prediction**"
      ]
    },
    {
      "cell_type": "code",
      "metadata": {
        "id": "3cAvOzs-E_jS"
      },
      "source": [
        "cols_to_drop = ['ID','Model','Price','Log_Price','Pow_Price']\n",
        "bin_cols = ['Leather interior','Wheel']\n",
        "cols_to_ohe = ['Drive wheels', 'Gear box type', 'Fuel type', 'leat_gear','manu_cat']\n",
        "cols_to_enc=['Color', 'Manufacturer','Category']\n",
        "num_cols=['Airbags', 'Engine volume','Mileage','Prod. year','num_years_passed','Levy']"
      ],
      "execution_count": null,
      "outputs": []
    },
    {
      "cell_type": "code",
      "metadata": {
        "id": "JHFtqNwmE_ez"
      },
      "source": [
        "from sklearn.model_selection import GridSearchCV,cross_val_score,cross_val_predict,train_test_split\n",
        "from sklearn.compose import ColumnTransformer\n",
        "from sklearn.metrics import mean_squared_log_error,make_scorer\n",
        "import xgboost as xgb\n",
        "from hyperopt import STATUS_OK, Trials, fmin, hp, tpe\n",
        "from lightgbm import LGBMRegressor\n",
        "from catboost import CatBoostRegressor\n",
        "from sklearn.pipeline import Pipeline\n",
        "from sklearn.preprocessing import StandardScaler,RobustScaler\n",
        "from mlxtend.regressor import StackingCVRegressor\n",
        "from sklearn.ensemble import StackingRegressor,GradientBoostingRegressor,RandomForestRegressor,ExtraTreesRegressor\n",
        "from sklearn.base import BaseEstimator,TransformerMixin\n",
        "from sklearn.linear_model import SGDRegressor,HuberRegressor,ElasticNetCV,LassoCV,LinearRegression\n",
        "from category_encoders import target_encoder,leave_one_out,cat_boost,count \n",
        "from sklearn.compose import make_column_selector\n",
        "from sklearn.compose import TransformedTargetRegressor\n",
        "SEED = 1993"
      ],
      "execution_count": null,
      "outputs": []
    },
    {
      "cell_type": "code",
      "metadata": {
        "id": "xKN14vYK0-4T"
      },
      "source": [
        "train_copy = train_copy.sample(frac=1).reset_index().drop(['index'],axis=1)\n",
        "train1 = train_copy.drop(cols_to_drop,axis=1)\n",
        "train1['Flag']='train'\n",
        "test1 = test_copy.drop(list(set(cols_to_drop)-set(['Log_Price','Pow_Price'])),axis=1)\n",
        "test1['Flag']='test'\n",
        "comb_data = pd.concat([train1,test1],axis=0)"
      ],
      "execution_count": null,
      "outputs": []
    },
    {
      "cell_type": "code",
      "metadata": {
        "id": "qSUa1N50z2-z"
      },
      "source": [
        "############################### Encode binary columns\n",
        "if bin_cols!=None:\n",
        "  labenc=LabelEncoder()\n",
        "  for c in bin_cols:\n",
        "    comb_data[c]=labenc.fit_transform(comb_data[c])"
      ],
      "execution_count": null,
      "outputs": []
    },
    {
      "cell_type": "code",
      "metadata": {
        "id": "OFKEotaz0ZLy"
      },
      "source": [
        "############################## Encode OHE columns\n",
        "if cols_to_ohe!=None:\n",
        "  for c in cols_to_ohe:\n",
        "    comb_data=pd.get_dummies(comb_data,columns=[c],drop_first=True)"
      ],
      "execution_count": null,
      "outputs": []
    },
    {
      "cell_type": "code",
      "metadata": {
        "id": "VMh0hzPzmwc9"
      },
      "source": [
        "train1 = comb_data[comb_data.Flag == 'train']\n",
        "test1 = comb_data[comb_data.Flag == 'test']"
      ],
      "execution_count": null,
      "outputs": []
    },
    {
      "cell_type": "code",
      "metadata": {
        "id": "JyZeehzRm6vq"
      },
      "source": [
        ""
      ],
      "execution_count": null,
      "outputs": []
    },
    {
      "cell_type": "code",
      "metadata": {
        "id": "IhtdpYamxlBh"
      },
      "source": [
        "def rmsle_func(actual,predicted):\n",
        "  predicted=np.abs(predicted)\n",
        "  return np.sqrt(mean_squared_log_error(actual, predicted))\n",
        "rmsle_score = make_scorer(rmsle_func,greater_is_better=False)"
      ],
      "execution_count": null,
      "outputs": []
    },
    {
      "cell_type": "code",
      "metadata": {
        "colab": {
          "base_uri": "https://localhost:8080/",
          "height": 36
        },
        "id": "HV8Fquk88jgB",
        "outputId": "ee622b50-1878-4ddd-c401-dd3e3eb5d55a"
      },
      "source": [
        "xgb.__version__"
      ],
      "execution_count": null,
      "outputs": [
        {
          "output_type": "execute_result",
          "data": {
            "application/vnd.google.colaboratory.intrinsic+json": {
              "type": "string"
            },
            "text/plain": [
              "'1.4.0-SNAPSHOT'"
            ]
          },
          "metadata": {
            "tags": []
          },
          "execution_count": 52
        }
      ]
    },
    {
      "cell_type": "code",
      "metadata": {
        "id": "LGuz3cSmxk9G"
      },
      "source": [
        "def score(params):\n",
        "    print(\"Training with params: \")\n",
        "    print(params)\n",
        "    #num_round = int(params['n_estimators'])\n",
        "    #del params['n_estimators']\n",
        "    #dtrain = xgb.DMatrix(train_features, label=y_train)\n",
        "    #dvalid = xgb.DMatrix(valid_features, label=y_valid)\n",
        "    #watchlist = [(dvalid, 'eval'), (dtrain, 'train')]\n",
        "    #gbm_model = xgb.train(params, dtrain, num_round,\n",
        "    #                      evals=watchlist,\n",
        "    #                      verbose_eval=True)\n",
        "    #predictions = gbm_model.predict(dvalid,\n",
        "    #                                ntree_limit=gbm_model.best_iteration + 1)\n",
        "    \n",
        "    params['depth'] = int(params['depth'])\n",
        "    params['iterations'] = int(params['iterations'])\n",
        "    params['border_count'] = int(params['border_count'])\n",
        "    cv=5\n",
        "    \n",
        "    pipe1 = Pipeline(steps=[('preprocessor', preprocessor),\n",
        "                        ('create_df', ConvArrToDF(col_names=range(train_copy.drop(cols_to_drop,axis = 1).shape[1]))),\n",
        "                      ('model', CatBoostRegressor(random_state=1993,cat_features=cols_to_enc,verbose=0,**params))])\n",
        "    cp=cross_val_predict(pipe1,train_copy.drop(cols_to_drop,axis = 1),train_copy[target],verbose=10,cv=5)\n",
        "    split_pt = len(cp) // cv + 1\n",
        "    split_arr=[ split_pt+split_pt*i if i<cv-1 else len(cp)  for i in range(cv)]\n",
        "    cp_split_arr = np.split(cp,split_arr)[:-1]\n",
        "    act_split_arr=np.split(train_copy[target].values,split_arr)[:-1]\n",
        "    score = np.mean([ rmsle_func(act,pred) for act,pred in zip(act_split_arr,cp_split_arr)])\n",
        "    #score = rmsle_func(y_valid, predictions)\n",
        "    # TODO: Add the importance for the selected features\n",
        "    print(\"\\tScore {0}\\n\\n\".format(score))\n",
        "    # The score function should return the loss (1-score)\n",
        "    # since the optimize function looks for the minimum\n",
        "    loss = score\n",
        "    return {'loss': loss, 'status': STATUS_OK}\n",
        "\n"
      ],
      "execution_count": null,
      "outputs": []
    },
    {
      "cell_type": "code",
      "metadata": {
        "id": "u0nJrm1Fxk3T"
      },
      "source": [
        "def optimize(random_state=SEED):\n",
        "    \"\"\"\n",
        "    This is the optimization function that given a space (space here) of \n",
        "    hyperparameters and a scoring function (score here), finds the best hyperparameters.\n",
        "    \"\"\"\n",
        "    '''\n",
        "    space = {\n",
        "        'n_estimators': hp.quniform('n_estimators', 100, 1000, 1),\n",
        "        'eta': hp.quniform('eta', 0.025, 0.5, 0.025),\n",
        "        # A problem with max_depth casted to float instead of int with\n",
        "        # the hp.quniform method.\n",
        "        'max_depth':  hp.choice('max_depth', np.arange(1, 14, dtype=int)),\n",
        "        'min_child_weight': hp.quniform('min_child_weight', 1, 6, 1),\n",
        "        'subsample': hp.quniform('subsample', 0.5, 1, 0.05),\n",
        "        'gamma': hp.quniform('gamma', 0.5, 1, 0.05),\n",
        "        'colsample_bytree': hp.quniform('colsample_bytree', 0.5, 1, 0.05),\n",
        "        #'eval_metric': 'rmsle',\n",
        "        'objective': 'reg:squaredlogerror',\n",
        "        # Increase this number if you have more cores. Otherwise, remove it and it will default \n",
        "        # to the maxium number. \n",
        "        'booster': 'gbtree',\n",
        "        'tree_method': 'exact',\n",
        "        'silent': 1,\n",
        "        'seed': random_state\n",
        "    }\n",
        "    '''\n",
        "    space = {\n",
        "        'depth': hp.quniform(\"depth\", 3, 15, 1),\n",
        "        'border_count': hp.uniform ('border_count', 32, 255),\n",
        "        'learning_rate': hp.loguniform('learning_rate', -5.0, -2),\n",
        "        'l2_leaf_reg': hp.uniform('l2_leaf_reg', 3, 8),\n",
        "        'iterations' : hp.uniform('iterations',500,2000)\n",
        "       }\n",
        "    # Use the fmin function from Hyperopt to find the best hyperparameters\n",
        "    best = fmin(score, space, algo=tpe.suggest, \n",
        "                # trials=trials, \n",
        "                max_evals=30)\n",
        "    return best"
      ],
      "execution_count": null,
      "outputs": []
    },
    {
      "cell_type": "code",
      "metadata": {
        "id": "z7wzg8YR66uz"
      },
      "source": [
        "#train_features,valid_features,y_train,y_valid = train_test_split(train_copy.drop(cols_to_drop,axis=1),train_copy[target], test_size=0.2,\n",
        "#                                random_state=SEED,shuffle=True)"
      ],
      "execution_count": null,
      "outputs": []
    },
    {
      "cell_type": "code",
      "metadata": {
        "id": "3rj1fzVN66sH"
      },
      "source": [
        "#best_hyperparams = optimize()\n",
        "#print(\"The best hyperparameters are: \", \"\\n\")\n",
        "#print(best_hyperparams)\n",
        "#xgb_params = {'booster': 'gbtree', 'colsample_bytree': 0.7000000000000001, 'eta': 0.17500000000000002, 'gamma': 0.9, 'max_depth': 3, 'min_child_weight': 2.0, 'n_estimators': 462.0, 'objective': 'reg:squaredlogerror', 'seed': 1993, 'silent': 1, 'subsample': 0.75, 'tree_method': 'exact'}"
      ],
      "execution_count": null,
      "outputs": []
    },
    {
      "cell_type": "code",
      "metadata": {
        "id": "NXECEOlA66po"
      },
      "source": [
        ""
      ],
      "execution_count": null,
      "outputs": []
    },
    {
      "cell_type": "code",
      "metadata": {
        "id": "Ii01s2f-66jq"
      },
      "source": [
        ""
      ],
      "execution_count": null,
      "outputs": []
    },
    {
      "cell_type": "code",
      "metadata": {
        "id": "cD5HzM_uuO2o"
      },
      "source": [
        "class ConvArrToDF(BaseEstimator, TransformerMixin):\n",
        "  def __init__(self,num_prev_pipe=None):\n",
        "    self.num_prev_pipe=num_prev_pipe\n",
        "  \n",
        "  def fit(self,X,y=None):\n",
        "    return self\n",
        "  \n",
        "  def transform(self,X,y=None):\n",
        "    X = pd.DataFrame(X)\n",
        "    X = pd.concat([X.loc[:,self.num_prev_pipe:],X.loc[:,list(range(self.num_prev_pipe))]],axis=1)\n",
        "    float_cols,oth_cols=0,0\n",
        "    for i in X.columns:\n",
        "      try:\n",
        "        X.loc[:,i]=X.loc[:,i].astype(float)\n",
        "        float_cols=float_cols+1\n",
        "      except:\n",
        "        X.loc[:,i]=X.loc[:,i].astype(object)\n",
        "        oth_cols=oth_cols+1\n",
        "    if oth_cols>0:\n",
        "      X=pd.concat([X.select_dtypes(include='float'),X.select_dtypes(include='object')],axis =1)\n",
        "    X.columns=range(X.shape[1])\n",
        "    return X\n"
      ],
      "execution_count": null,
      "outputs": []
    },
    {
      "cell_type": "code",
      "metadata": {
        "id": "q6eJSxitrQTS"
      },
      "source": [
        "total_cols= train1.shape[1]\n",
        "len_enc_cols=len(cols_to_enc)\n",
        "cols_to_enc_ind = list(range(total_cols-len_enc_cols,total_cols))"
      ],
      "execution_count": null,
      "outputs": []
    },
    {
      "cell_type": "code",
      "metadata": {
        "id": "1ttei9Nxtm2t"
      },
      "source": [
        ""
      ],
      "execution_count": 59,
      "outputs": []
    },
    {
      "cell_type": "code",
      "metadata": {
        "id": "Boxv6nlbnGx1"
      },
      "source": [
        "train1 = pd.concat([train1.select_dtypes(exclude='object'),train1.select_dtypes(include='object')],axis=1)\n",
        "test1 = pd.concat([test1.select_dtypes(exclude='object'),test1.select_dtypes(include='object')],axis=1)"
      ],
      "execution_count": null,
      "outputs": []
    },
    {
      "cell_type": "code",
      "metadata": {
        "id": "dOL7WjVQ9mfU"
      },
      "source": [
        "space = {\n",
        "        'n_estimators': 1000,\n",
        "        'eta': 0.01,\n",
        "        'objective' :  'reg:squaredlogerror',\n",
        "        'booster': 'gbtree',\n",
        "        'tree_method': 'exact',\n",
        "        'seed': 1993\n",
        "    }\n",
        "numeric_features=['Mileage','Prod. year']\n",
        "numeric_transformer = Pipeline(steps=[('scaler', RobustScaler())])\n",
        "preprocessor = ColumnTransformer(transformers=[\n",
        "        ('num', numeric_transformer, [1,4]),\n",
        "        ('cat_trans',target_encoder.TargetEncoder(),make_column_selector(dtype_include='object'))],remainder='passthrough')\n",
        "\n",
        "pipe1 = Pipeline(steps=[('preprocessor', preprocessor),\n",
        "                      #  ('create_df', ConvArrToDF(col_names=range(train_copy.drop(cols_to_drop,axis = 1).shape[1]))),\n",
        "                      #('model', SGDRegressor(loss='huber',penalty='elasticnet',shuffle=True,random_state=1993))])\n",
        "                      ('model', GradientBoostingRegressor(n_estimators=1000,learning_rate=0.01,random_state=1993,max_depth=10))])\n",
        "\n",
        "pipe2 = Pipeline(steps=[('preprocessor', preprocessor),\n",
        "                      #  ('create_df', ConvArrToDF(col_names=range(train_copy.drop(cols_to_drop,axis = 1).shape[1]))),\n",
        "                      #('model', ElasticNetCV(alphas = [1, 0.1, 0.001, 0.0005,2,5,10],max_iter=10000,random_state=1993))])\n",
        "                      ('model', xgb.XGBRegressor(**space,random_state=1993))])\n",
        "\n",
        "pipe3 = Pipeline(steps=[('preprocessor', preprocessor),\n",
        "                      #  ('create_df', ConvArrToDF(col_names=range(train_copy.drop(cols_to_drop,axis = 1).shape[1]))),\n",
        "                      #('model', LassoCV(alphas = [1, 0.1, 0.001, 0.0005,2,5,10]))])\n",
        "                      ('model', LGBMRegressor(max_depth=10,learning_rate=0.01,n_estimators=1000,random_state=1993))])\n",
        "\n",
        "pipe4 = Pipeline(steps=[('create_df', ConvArrToDF(num_prev_pipe=3)),\n",
        "                        ('preprocessor', preprocessor),\n",
        "                      ('model', GradientBoostingRegressor(n_estimators=1000,learning_rate=0.01,random_state=1993,max_depth=10))])\n"
      ],
      "execution_count": null,
      "outputs": []
    },
    {
      "cell_type": "code",
      "metadata": {
        "id": "RB4DI_ol3tcj"
      },
      "source": [
        "estimators = [ ('pipe1', pipe1),('pipe2', pipe2),('pipe3', pipe3)]\n",
        "stack_reg=StackingRegressor(estimators=estimators,final_estimator=pipe4,cv=5,passthrough=True,verbose=10)\n",
        "trans_reg = TransformedTargetRegressor(regressor=stack_reg,func=np.log,inverse_func=np.exp)"
      ],
      "execution_count": null,
      "outputs": []
    },
    {
      "cell_type": "code",
      "metadata": {
        "id": "GEVta7lsbedZ"
      },
      "source": [
        "####################### Cross validated predictions and calculating cv scores \n",
        "cv=5\n",
        "cp=cross_val_predict(trans_reg,train1,train_copy['Price'],verbose=10,cv=cv)\n",
        "cp[cp==inf]\n",
        "\n",
        "split_pt = len(cp) // cv + 1\n",
        "split_arr=[ split_pt+split_pt*i if i<cv-1 else len(cp)  for i in range(cv)]\n",
        "cp_split_arr = np.split(cp,split_arr)[:-1]\n",
        "act_split_arr=np.split(train_copy[target].values,split_arr)[:-1]\n",
        "[ rmsle_func(act,pred) for act,pred in zip(act_split_arr,cp_split_arr)]"
      ],
      "execution_count": 59,
      "outputs": []
    },
    {
      "cell_type": "code",
      "metadata": {
        "id": "w2pwZC8u9mTw"
      },
      "source": [
        ""
      ],
      "execution_count": null,
      "outputs": []
    },
    {
      "cell_type": "code",
      "metadata": {
        "id": "-MOU2cla66fK",
        "colab": {
          "base_uri": "https://localhost:8080/"
        },
        "outputId": "8b790b62-5a1a-4e3a-d823-de170db8bba5"
      },
      "source": [
        "##################### Refit the above cross validated model on entire training data and predict the test\n",
        "trans_reg.fit(train1,train_copy['Price'])\n",
        "predictions = trans_reg.predict(test1)\n",
        "pd.DataFrame({'Price':predictions},index=range(len(predictions))).to_csv('GBM_Sub4.csv', index=False)"
      ],
      "execution_count": null,
      "outputs": [
        {
          "output_type": "stream",
          "text": [
            "[Parallel(n_jobs=1)]: Using backend SequentialBackend with 1 concurrent workers.\n",
            "[Parallel(n_jobs=1)]: Done   1 out of   1 | elapsed:  3.5min remaining:    0.0s\n",
            "[Parallel(n_jobs=1)]: Done   2 out of   2 | elapsed:  7.1min remaining:    0.0s\n",
            "[Parallel(n_jobs=1)]: Done   3 out of   3 | elapsed: 10.6min remaining:    0.0s\n",
            "[Parallel(n_jobs=1)]: Done   4 out of   4 | elapsed: 14.2min remaining:    0.0s\n",
            "[Parallel(n_jobs=1)]: Done   5 out of   5 | elapsed: 17.8min remaining:    0.0s\n",
            "[Parallel(n_jobs=1)]: Done   5 out of   5 | elapsed: 17.8min finished\n",
            "[Parallel(n_jobs=1)]: Using backend SequentialBackend with 1 concurrent workers.\n",
            "[Parallel(n_jobs=1)]: Done   1 out of   1 | elapsed:  2.5min remaining:    0.0s\n",
            "[Parallel(n_jobs=1)]: Done   2 out of   2 | elapsed:  4.9min remaining:    0.0s\n",
            "[Parallel(n_jobs=1)]: Done   3 out of   3 | elapsed:  7.4min remaining:    0.0s\n",
            "[Parallel(n_jobs=1)]: Done   4 out of   4 | elapsed:  9.8min remaining:    0.0s\n",
            "[Parallel(n_jobs=1)]: Done   5 out of   5 | elapsed: 12.2min remaining:    0.0s\n",
            "[Parallel(n_jobs=1)]: Done   5 out of   5 | elapsed: 12.2min finished\n",
            "[Parallel(n_jobs=1)]: Using backend SequentialBackend with 1 concurrent workers.\n",
            "[Parallel(n_jobs=1)]: Done   1 out of   1 | elapsed:    3.4s remaining:    0.0s\n",
            "[Parallel(n_jobs=1)]: Done   2 out of   2 | elapsed:    6.7s remaining:    0.0s\n",
            "[Parallel(n_jobs=1)]: Done   3 out of   3 | elapsed:   10.1s remaining:    0.0s\n",
            "[Parallel(n_jobs=1)]: Done   4 out of   4 | elapsed:   13.5s remaining:    0.0s\n",
            "[Parallel(n_jobs=1)]: Done   5 out of   5 | elapsed:   16.8s remaining:    0.0s\n",
            "[Parallel(n_jobs=1)]: Done   5 out of   5 | elapsed:   16.8s finished\n"
          ],
          "name": "stderr"
        }
      ]
    },
    {
      "cell_type": "code",
      "metadata": {
        "id": "Mt2fLsfMIuxf"
      },
      "source": [
        ""
      ],
      "execution_count": null,
      "outputs": []
    },
    {
      "cell_type": "code",
      "metadata": {
        "id": "rVCs5DQX66cf"
      },
      "source": [
        ""
      ],
      "execution_count": 59,
      "outputs": []
    },
    {
      "cell_type": "code",
      "metadata": {
        "id": "X4j7ld4RIwqy"
      },
      "source": [
        ""
      ],
      "execution_count": null,
      "outputs": []
    },
    {
      "cell_type": "code",
      "metadata": {
        "id": "IAykYv3K66Za"
      },
      "source": [
        ""
      ],
      "execution_count": null,
      "outputs": []
    },
    {
      "cell_type": "code",
      "metadata": {
        "id": "KJ748q3m66Wd"
      },
      "source": [
        ""
      ],
      "execution_count": null,
      "outputs": []
    },
    {
      "cell_type": "code",
      "metadata": {
        "id": "f0-qyyd_66UW"
      },
      "source": [
        ""
      ],
      "execution_count": null,
      "outputs": []
    },
    {
      "cell_type": "code",
      "metadata": {
        "id": "JO3fP1qA66RW"
      },
      "source": [
        ""
      ],
      "execution_count": null,
      "outputs": []
    }
  ]
}